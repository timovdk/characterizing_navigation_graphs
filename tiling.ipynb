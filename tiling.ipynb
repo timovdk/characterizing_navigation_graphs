{
 "metadata": {
  "language_info": {
   "codemirror_mode": {
    "name": "ipython",
    "version": 3
   },
   "file_extension": ".py",
   "mimetype": "text/x-python",
   "name": "python",
   "nbconvert_exporter": "python",
   "pygments_lexer": "ipython3",
   "version": "3.7.3-final"
  },
  "orig_nbformat": 2,
  "kernelspec": {
   "name": "python3",
   "display_name": "Python 3",
   "language": "python"
  }
 },
 "nbformat": 4,
 "nbformat_minor": 2,
 "cells": [
  {
   "cell_type": "code",
   "execution_count": 17,
   "metadata": {},
   "outputs": [],
   "source": [
    "import numpy as np\n",
    "import cv2\n",
    "import pandas as pd\n",
    "import PIL\n",
    "import utm\n",
    "import matplotlib.pyplot as plt\n",
    "import networkx as nx\n",
    "import matplotlib as mpl\n",
    "import os"
   ]
  },
  {
   "cell_type": "code",
   "execution_count": 2,
   "metadata": {},
   "outputs": [],
   "source": [
    "video_name = 'Help'\n",
    "data = pd.read_fwf('data/head_tracking_data/Subject_6/' + video_name + '.txt', header=None)\n",
    "\n",
    "data.columns = ['latitude', 'longitude']\n",
    "\n",
    "cap = cv2.VideoCapture('data/video_files/' + video_name + '.mp4')\n",
    "\n",
    "# Get video meta data\n",
    "length = int(cap.get(cv2.CAP_PROP_FRAME_COUNT))\n",
    "width  = int(cap.get(cv2.CAP_PROP_FRAME_WIDTH))\n",
    "height = int(cap.get(cv2.CAP_PROP_FRAME_HEIGHT))\n",
    "\n",
    "# Calculate pixels per degree\n",
    "width_normalized = width/360\n",
    "height_normalized = height/180\n",
    "\n",
    "# Calculate FoV offsets, 110 degrees horizontal, 100 degrees verti\n",
    "width_offset = width_normalized*55\n",
    "height_offset = height_normalized*50\n",
    "\n",
    "calc_mod = round(1/(round((length/len(data)),2)-1))"
   ]
  },
  {
   "source": [
    "The next code block can probably be simplified since currently:\n",
    "\n",
    "~~~\n",
    "long/lat -> x/y -> x/y start and end points -> long/lat start and end points -> UTM coordinates\n",
    "~~~\n",
    "\n",
    "So basically, we can just calculate start and end from lat long directly, this will take out 2 steps"
   ],
   "cell_type": "markdown",
   "metadata": {}
  },
  {
   "source": [
    "def conversion(lat, lon):\n",
    "    x = (180 - lon) * width_normalized\n",
    "    y = (90 - lat) * height_normalized\n",
    "    return(x, y)\n",
    "\n",
    "def start_end_point(x, y):\n",
    "    start_point = (int(x - width_offset), int(y + height_offset))\n",
    "    end_point = (int(x + width_offset), int(y - height_offset))\n",
    "    return(start_point, end_point)\n",
    "\n",
    "# The if/elif statements are there to wrap the viewport around the edge of the screen\n",
    "# aka a location of 181, is the same as -179.\n",
    "def back_conv(x, y):\n",
    "    lon = 180 - (x/width_normalized)\n",
    "    if lon > 180: lon -= 360\n",
    "    elif lon < -180: lon += 360\n",
    "    lat = 90 - (y/height_normalized)\n",
    "    if lat > 80: lat -= 160\n",
    "    elif lat < -80: lat += 160\n",
    "    return(lat, lon)\n",
    "\n",
    "starting_points = []\n",
    "ending_points = []\n",
    "\n",
    "# Determine top left and bottom right UTM coordinates of the viewport\n",
    "for i in range(len(data)):\n",
    "    x,y = conversion(data.iloc[i]['latitude'], data.iloc[i]['longitude'])\n",
    "    start_point, end_point = start_end_point(x, y)\n",
    "\n",
    "    start = back_conv(start_point[0], start_point[1])\n",
    "    end = back_conv(end_point[0], end_point[1])\n",
    "    \n",
    "    u1 = utm.from_latlon(start[0], start[1])\n",
    "    starting_points.append(u1[2:])\n",
    "    \n",
    "    u2 = utm.from_latlon(end[0], end[1])\n",
    "    ending_points.append(u2[2:])\n",
    "\n",
    "starting_zones = pd.DataFrame(starting_points)\n",
    "ending_zones = pd.DataFrame(ending_points)"
   ],
   "cell_type": "code",
   "metadata": {},
   "execution_count": 3,
   "outputs": []
  },
  {
   "cell_type": "code",
   "execution_count": 4,
   "metadata": {},
   "outputs": [],
   "source": [
    "# concatenate zones and zone bands to dataframe\n",
    "coords = pd.concat([data, starting_zones, ending_zones],axis=1)\n",
    "coords.columns = ['latitude', 'longitude', 's_zone', 's_band', 'e_zone', 'e_band']"
   ]
  },
  {
   "cell_type": "code",
   "execution_count": 5,
   "metadata": {},
   "outputs": [],
   "source": [
    "# convert band-letters to numbers - issue exists because mercator zones omit the letters \"I\" and \"O\"\n",
    "coords['ns_band'] = [ ord(x) - 64 for x in coords.s_band ]\n",
    "coords['ne_band'] = [ ord(x) - 64 for x in coords.e_band ]"
   ]
  },
  {
   "cell_type": "code",
   "execution_count": 6,
   "metadata": {
    "tags": []
   },
   "outputs": [],
   "source": [
    "# Probably here we can work out the size of a tile\n",
    "# Determine bins (for 4x4 tiling it will be 15 UTM zones and 6 UTM bands)\n",
    "bins_zone = [i*15 for i in range(0,5)]\n",
    "labels_zone = [i for i in range(1,5)]\n",
    "\n",
    "bins_band = [i*6 for i in range(0,5)]\n",
    "labels_band = [i for i in range(1,5)]\n",
    "\n",
    "# Binning results\n",
    "coords['s_bin_zone'] = pd.DataFrame(pd.cut(coords['s_zone'], bins=bins_zone, labels=labels_zone))\n",
    "coords['s_bin_band'] = pd.DataFrame(pd.cut(coords['ns_band'], bins=bins_band, labels=labels_band))\n",
    "coords['e_bin_zone'] = pd.DataFrame(pd.cut(coords['e_zone'], bins=bins_zone, labels=labels_zone))\n",
    "coords['e_bin_band'] = pd.DataFrame(pd.cut(coords['ne_band'], bins=bins_band, labels=labels_band))"
   ]
  },
  {
   "cell_type": "code",
   "execution_count": 7,
   "metadata": {},
   "outputs": [],
   "source": [
    "G = nx.DiGraph()\n",
    "for i in range(len(coords)-1):\n",
    "\n",
    "    prev_top_left_zone = (coords.iloc[i]['s_bin_zone'], coords.iloc[i]['s_bin_band'])\n",
    "    prev_bottom_right_zone = (coords.iloc[i]['e_bin_zone'], coords.iloc[i]['e_bin_band'])\n",
    "    curr_top_left_zone = (coords.iloc[i+1]['s_bin_zone'], coords.iloc[i+1]['s_bin_band'])\n",
    "    curr_bottom_right_zone = (coords.iloc[i+1]['e_bin_zone'], coords.iloc[i+1]['e_bin_band'])\n",
    "\n",
    "    # connect previous set of [top left zone, bottom right zone] to current [top left zone, bottom right zone]\n",
    "    G.add_edge((prev_top_left_zone, prev_bottom_right_zone), (curr_top_left_zone, curr_bottom_right_zone))\n",
    "    "
   ]
  },
  {
   "cell_type": "code",
   "execution_count": 16,
   "metadata": {},
   "outputs": [
    {
     "output_type": "display_data",
     "data": {
      "text/plain": "<Figure size 432x288 with 2 Axes>",
      "image/svg+xml": "<?xml version=\"1.0\" encoding=\"utf-8\" standalone=\"no\"?>\r\n<!DOCTYPE svg PUBLIC \"-//W3C//DTD SVG 1.1//EN\"\r\n  \"http://www.w3.org/Graphics/SVG/1.1/DTD/svg11.dtd\">\r\n<!-- Created with matplotlib (https://matplotlib.org/) -->\r\n<svg height=\"252.837031pt\" version=\"1.1\" viewBox=\"0 0 329.577 252.837031\" width=\"329.577pt\" xmlns=\"http://www.w3.org/2000/svg\" xmlns:xlink=\"http://www.w3.org/1999/xlink\">\r\n <defs>\r\n  <style type=\"text/css\">\r\n*{stroke-linecap:butt;stroke-linejoin:round;}\r\n  </style>\r\n </defs>\r\n <g id=\"figure_1\">\r\n  <g id=\"patch_1\">\r\n   <path d=\"M 0 252.837031 \r\nL 329.577 252.837031 \r\nL 329.577 0 \r\nL 0 0 \r\nz\r\n\" style=\"fill:none;\"/>\r\n  </g>\r\n  <g id=\"axes_1\">\r\n   <g id=\"patch_2\">\r\n    <path clip-path=\"url(#p464f4b3386)\" d=\"M 251.797686 113.761832 \r\nQ 251.797686 113.761832 251.797686 113.761832 \r\n\" style=\"fill:none;stroke:#f7fbff;stroke-linecap:round;stroke-width:4;\"/>\r\n   </g>\r\n   <g id=\"patch_3\">\r\n    <path clip-path=\"url(#p464f4b3386)\" d=\"M 251.467932 112.956946 \r\nQ 236.75435 77.534957 203.373729 73.297023 \r\n\" style=\"fill:none;stroke:#ecf4fb;stroke-linecap:round;stroke-width:4;\"/>\r\n    <path clip-path=\"url(#p464f4b3386)\" d=\"M 209.319736 77.277602 \r\nL 203.373729 73.297023 \r\nL 210.125796 70.928565 \r\n\" style=\"fill:none;stroke:#ecf4fb;stroke-linecap:round;stroke-width:4;\"/>\r\n   </g>\r\n   <g id=\"patch_4\">\r\n    <path clip-path=\"url(#p464f4b3386)\" d=\"M 197.143036 72.5246 \r\nQ 197.143036 72.5246 197.143036 72.5246 \r\n\" style=\"fill:none;stroke:#e1edf8;stroke-linecap:round;stroke-width:4;\"/>\r\n   </g>\r\n   <g id=\"patch_5\">\r\n    <path clip-path=\"url(#p464f4b3386)\" d=\"M 195.554703 71.67934 \r\nQ 165.138844 55.922301 139.893162 71.449928 \r\n\" style=\"fill:none;stroke:#d6e6f4;stroke-linecap:round;stroke-width:4;\"/>\r\n    <path clip-path=\"url(#p464f4b3386)\" d=\"M 147.021035 70.822686 \r\nL 139.893162 71.449928 \r\nL 143.668092 65.371284 \r\n\" style=\"fill:none;stroke:#d6e6f4;stroke-linecap:round;stroke-width:4;\"/>\r\n   </g>\r\n   <g id=\"patch_6\">\r\n    <path clip-path=\"url(#p464f4b3386)\" d=\"M 134.06326 75.077412 \r\nQ 134.06326 75.077412 134.06326 75.077412 \r\n\" style=\"fill:none;stroke:#ccdff1;stroke-linecap:round;stroke-width:4;\"/>\r\n   </g>\r\n   <g id=\"patch_7\">\r\n    <path clip-path=\"url(#p464f4b3386)\" d=\"M 131.976561 76.258727 \r\nQ 111.435276 88.448474 110.595227 107.736685 \r\n\" style=\"fill:none;stroke:#bdd7ec;stroke-linecap:round;stroke-width:4;\"/>\r\n    <path clip-path=\"url(#p464f4b3386)\" d=\"M 114.070668 101.481983 \r\nL 110.595227 107.736685 \r\nL 107.676729 101.203511 \r\n\" style=\"fill:none;stroke:#bdd7ec;stroke-linecap:round;stroke-width:4;\"/>\r\n   </g>\r\n   <g id=\"patch_8\">\r\n    <path clip-path=\"url(#p464f4b3386)\" d=\"M 136.274039 74.153587 \r\nQ 155.473974 65.622931 158.629465 49.79429 \r\n\" style=\"fill:none;stroke:#abd0e6;stroke-linecap:round;stroke-width:4;\"/>\r\n    <path clip-path=\"url(#p464f4b3386)\" d=\"M 154.239977 55.445166 \r\nL 158.629465 49.79429 \r\nL 160.516473 56.696406 \r\n\" style=\"fill:none;stroke:#abd0e6;stroke-linecap:round;stroke-width:4;\"/>\r\n   </g>\r\n   <g id=\"patch_9\">\r\n    <path clip-path=\"url(#p464f4b3386)\" d=\"M 110.346591 115.075519 \r\nQ 110.346591 115.075519 110.346591 115.075519 \r\n\" style=\"fill:none;stroke:#99c7e0;stroke-linecap:round;stroke-width:4;\"/>\r\n   </g>\r\n   <g id=\"patch_10\">\r\n    <path clip-path=\"url(#p464f4b3386)\" d=\"M 107.785723 116.371831 \r\nQ 86.721119 127.6819 84.795927 146.931792 \r\n\" style=\"fill:none;stroke:#82bbdb;stroke-linecap:round;stroke-width:4;\"/>\r\n    <path clip-path=\"url(#p464f4b3386)\" d=\"M 88.616933 140.882005 \r\nL 84.795927 146.931792 \r\nL 82.248702 140.245115 \r\n\" style=\"fill:none;stroke:#82bbdb;stroke-linecap:round;stroke-width:4;\"/>\r\n   </g>\r\n   <g id=\"patch_11\">\r\n    <path clip-path=\"url(#p464f4b3386)\" d=\"M 112.842959 113.648773 \r\nQ 133.186688 101.344412 133.870311 81.945446 \r\n\" style=\"fill:none;stroke:#6aaed6;stroke-linecap:round;stroke-width:4;\"/>\r\n    <path clip-path=\"url(#p464f4b3386)\" d=\"M 130.446899 88.228777 \r\nL 133.870311 81.945446 \r\nL 136.842929 88.454174 \r\n\" style=\"fill:none;stroke:#6aaed6;stroke-linecap:round;stroke-width:4;\"/>\r\n   </g>\r\n   <g id=\"patch_12\">\r\n    <path clip-path=\"url(#p464f4b3386)\" d=\"M 84.115311 154.654761 \r\nQ 84.115311 154.654761 84.115311 154.654761 \r\n\" style=\"fill:none;stroke:#58a1cf;stroke-linecap:round;stroke-width:4;\"/>\r\n   </g>\r\n   <g id=\"patch_13\">\r\n    <path clip-path=\"url(#p464f4b3386)\" d=\"M 81.09124 155.918525 \r\nQ 60.514379 165.220812 57.194866 182.944458 \r\n\" style=\"fill:none;stroke:#4695c8;stroke-linecap:round;stroke-width:4;\"/>\r\n    <path clip-path=\"url(#p464f4b3386)\" d=\"M 61.518363 177.242934 \r\nL 57.194866 182.944458 \r\nL 55.227745 176.064746 \r\n\" style=\"fill:none;stroke:#4695c8;stroke-linecap:round;stroke-width:4;\"/>\r\n   </g>\r\n   <g id=\"patch_14\">\r\n    <path clip-path=\"url(#p464f4b3386)\" d=\"M 87.034187 153.164595 \r\nQ 107.939934 141.748507 109.73679 122.394922 \r\n\" style=\"fill:none;stroke:#3787c0;stroke-linecap:round;stroke-width:4;\"/>\r\n    <path clip-path=\"url(#p464f4b3386)\" d=\"M 105.958839 128.471688 \r\nL 109.73679 122.394922 \r\nL 112.331432 129.063342 \r\n\" style=\"fill:none;stroke:#3787c0;stroke-linecap:round;stroke-width:4;\"/>\r\n   </g>\r\n   <g id=\"patch_15\">\r\n    <path clip-path=\"url(#p464f4b3386)\" d=\"M 52.41399 192.236181 \r\nQ 35.636821 199.374173 32.32279 212.662373 \r\n\" style=\"fill:none;stroke:#2979b9;stroke-linecap:round;stroke-width:4;\"/>\r\n    <path clip-path=\"url(#p464f4b3386)\" d=\"M 36.976387 207.226931 \r\nL 32.32279 212.662373 \r\nL 30.766594 205.67823 \r\n\" style=\"fill:none;stroke:#2979b9;stroke-linecap:round;stroke-width:4;\"/>\r\n   </g>\r\n   <g id=\"patch_16\">\r\n    <path clip-path=\"url(#p464f4b3386)\" d=\"M 59.169179 189.52587 \r\nQ 79.615188 180.120588 82.83164 162.298331 \r\n\" style=\"fill:none;stroke:#1b69af;stroke-linecap:round;stroke-width:4;\"/>\r\n    <path clip-path=\"url(#p464f4b3386)\" d=\"M 78.545844 168.028248 \r\nL 82.83164 162.298331 \r\nL 84.844096 169.164918 \r\n\" style=\"fill:none;stroke:#1b69af;stroke-linecap:round;stroke-width:4;\"/>\r\n   </g>\r\n   <g id=\"patch_17\">\r\n    <path clip-path=\"url(#p464f4b3386)\" d=\"M 30.442314 220.889365 \r\nQ 30.442314 220.889365 30.442314 220.889365 \r\n\" style=\"fill:none;stroke:#105ba4;stroke-linecap:round;stroke-width:4;\"/>\r\n   </g>\r\n   <g id=\"patch_18\">\r\n    <path clip-path=\"url(#p464f4b3386)\" d=\"M 34.144925 219.463721 \r\nQ 50.809969 212.232088 54.044321 198.85916 \r\n\" style=\"fill:none;stroke:#084d96;stroke-linecap:round;stroke-width:4;\"/>\r\n    <path clip-path=\"url(#p464f4b3386)\" d=\"M 49.429484 204.327549 \r\nL 54.044321 198.85916 \r\nL 55.65013 205.832064 \r\n\" style=\"fill:none;stroke:#084d96;stroke-linecap:round;stroke-width:4;\"/>\r\n   </g>\r\n   <g id=\"patch_19\">\r\n    <path clip-path=\"url(#p464f4b3386)\" d=\"M 160.165291 41.186885 \r\nQ 160.165291 41.186885 160.165291 41.186885 \r\n\" style=\"fill:none;stroke:#083e81;stroke-linecap:round;stroke-width:4;\"/>\r\n   </g>\r\n   <g id=\"patch_20\">\r\n    <path clip-path=\"url(#p464f4b3386)\" d=\"M 156.254132 42.903648 \r\nQ 137.739129 51.960564 135.105005 68.285003 \r\n\" style=\"fill:none;stroke:#08306b;stroke-linecap:round;stroke-width:4;\"/>\r\n    <path clip-path=\"url(#p464f4b3386)\" d=\"M 139.283663 62.476491 \r\nL 135.105005 68.285003 \r\nL 132.96539 61.45697 \r\n\" style=\"fill:none;stroke:#08306b;stroke-linecap:round;stroke-width:4;\"/>\r\n   </g>\r\n   <g id=\"PathCollection_1\">\r\n    <path clip-path=\"url(#p464f4b3386)\" d=\"M 251.797686 114.627857 \r\nC 252.027359 114.627857 252.247655 114.536607 252.410058 114.374204 \r\nC 252.572461 114.211801 252.663711 113.991504 252.663711 113.761832 \r\nC 252.663711 113.532159 252.572461 113.311862 252.410058 113.149459 \r\nC 252.247655 112.987056 252.027359 112.895806 251.797686 112.895806 \r\nC 251.568013 112.895806 251.347717 112.987056 251.185314 113.149459 \r\nC 251.02291 113.311862 250.931661 113.532159 250.931661 113.761832 \r\nC 250.931661 113.991504 251.02291 114.211801 251.185314 114.374204 \r\nC 251.347717 114.536607 251.568013 114.627857 251.797686 114.627857 \r\nz\r\n\" style=\"fill:#0000ff;stroke:#0000ff;\"/>\r\n    <path clip-path=\"url(#p464f4b3386)\" d=\"M 197.143036 74.327376 \r\nC 197.621137 74.327376 198.079722 74.137424 198.417791 73.799355 \r\nC 198.75586 73.461286 198.945811 73.002702 198.945811 72.5246 \r\nC 198.945811 72.046498 198.75586 71.587914 198.417791 71.249845 \r\nC 198.079722 70.911776 197.621137 70.721824 197.143036 70.721824 \r\nC 196.664934 70.721824 196.20635 70.911776 195.868281 71.249845 \r\nC 195.530212 71.587914 195.34026 72.046498 195.34026 72.5246 \r\nC 195.34026 73.002702 195.530212 73.461286 195.868281 73.799355 \r\nC 196.20635 74.137424 196.664934 74.327376 197.143036 74.327376 \r\nz\r\n\" style=\"fill:#0000ff;stroke:#0000ff;\"/>\r\n    <path clip-path=\"url(#p464f4b3386)\" d=\"M 134.06326 77.475327 \r\nC 134.699195 77.475327 135.309169 77.222668 135.758842 76.772994 \r\nC 136.208516 76.32332 136.461176 75.713346 136.461176 75.077412 \r\nC 136.461176 74.441477 136.208516 73.831503 135.758842 73.381829 \r\nC 135.309169 72.932155 134.699195 72.679496 134.06326 72.679496 \r\nC 133.427325 72.679496 132.817351 72.932155 132.367677 73.381829 \r\nC 131.918004 73.831503 131.665344 74.441477 131.665344 75.077412 \r\nC 131.665344 75.713346 131.918004 76.32332 132.367677 76.772994 \r\nC 132.817351 77.222668 133.427325 77.475327 134.06326 77.475327 \r\nz\r\n\" style=\"fill:#0000ff;stroke:#0000ff;\"/>\r\n    <path clip-path=\"url(#p464f4b3386)\" d=\"M 110.346591 117.947801 \r\nC 111.108329 117.947801 111.838971 117.645159 112.377601 117.106529 \r\nC 112.916231 116.567899 113.218872 115.837257 113.218872 115.075519 \r\nC 113.218872 114.313782 112.916231 113.58314 112.377601 113.04451 \r\nC 111.838971 112.50588 111.108329 112.203238 110.346591 112.203238 \r\nC 109.584853 112.203238 108.854212 112.50588 108.315582 113.04451 \r\nC 107.776952 113.58314 107.47431 114.313782 107.47431 115.075519 \r\nC 107.47431 115.837257 107.776952 116.567899 108.315582 117.106529 \r\nC 108.854212 117.645159 109.584853 117.947801 110.346591 117.947801 \r\nz\r\n\" style=\"fill:#0000ff;stroke:#0000ff;\"/>\r\n    <path clip-path=\"url(#p464f4b3386)\" d=\"M 84.115311 157.93348 \r\nC 84.984837 157.93348 85.818867 157.588014 86.433716 156.973165 \r\nC 87.048564 156.358317 87.39403 155.524287 87.39403 154.654761 \r\nC 87.39403 153.785234 87.048564 152.951204 86.433716 152.336356 \r\nC 85.818867 151.721508 84.984837 151.376042 84.115311 151.376042 \r\nC 83.245784 151.376042 82.411754 151.721508 81.796906 152.336356 \r\nC 81.182058 152.951204 80.836592 153.785234 80.836592 154.654761 \r\nC 80.836592 155.524287 81.182058 156.358317 81.796906 156.973165 \r\nC 82.411754 157.588014 83.245784 157.93348 84.115311 157.93348 \r\nz\r\n\" style=\"fill:#0000ff;stroke:#0000ff;\"/>\r\n    <path clip-path=\"url(#p464f4b3386)\" d=\"M 55.816584 194.579505 \r\nC 56.781938 194.579505 57.707884 194.195966 58.390492 193.513358 \r\nC 59.0731 192.83075 59.456639 191.904804 59.456639 190.93945 \r\nC 59.456639 189.974097 59.0731 189.048151 58.390492 188.365543 \r\nC 57.707884 187.682935 56.781938 187.299395 55.816584 187.299395 \r\nC 54.85123 187.299395 53.925285 187.682935 53.242677 188.365543 \r\nC 52.560068 189.048151 52.176529 189.974097 52.176529 190.93945 \r\nC 52.176529 191.904804 52.560068 192.83075 53.242677 193.513358 \r\nC 53.925285 194.195966 54.85123 194.579505 55.816584 194.579505 \r\nz\r\n\" style=\"fill:#0000ff;stroke:#0000ff;\"/>\r\n    <path clip-path=\"url(#p464f4b3386)\" d=\"M 30.442314 224.857992 \r\nC 31.494806 224.857992 32.504333 224.439832 33.248557 223.695608 \r\nC 33.992781 222.951383 34.410941 221.941857 34.410941 220.889365 \r\nC 34.410941 219.836872 33.992781 218.827346 33.248557 218.083122 \r\nC 32.504333 217.338897 31.494806 216.920738 30.442314 216.920738 \r\nC 29.389822 216.920738 28.380295 217.338897 27.636071 218.083122 \r\nC 26.891847 218.827346 26.473687 219.836872 26.473687 220.889365 \r\nC 26.473687 221.941857 26.891847 222.951383 27.636071 223.695608 \r\nC 28.380295 224.439832 29.389822 224.857992 30.442314 224.857992 \r\nz\r\n\" style=\"fill:#0000ff;stroke:#0000ff;\"/>\r\n    <path clip-path=\"url(#p464f4b3386)\" d=\"M 160.165291 45.458887 \r\nC 161.298239 45.458887 162.384937 45.008762 163.186053 44.207647 \r\nC 163.987168 43.406532 164.437293 42.319833 164.437293 41.186885 \r\nC 164.437293 40.053937 163.987168 38.967239 163.186053 38.166124 \r\nC 162.384937 37.365009 161.298239 36.914883 160.165291 36.914883 \r\nC 159.032343 36.914883 157.945645 37.365009 157.14453 38.166124 \r\nC 156.343414 38.967239 155.893289 40.053937 155.893289 41.186885 \r\nC 155.893289 42.319833 156.343414 43.406532 157.14453 44.207647 \r\nC 157.945645 45.008762 159.032343 45.458887 160.165291 45.458887 \r\nz\r\n\" style=\"fill:#0000ff;stroke:#0000ff;\"/>\r\n   </g>\r\n   <g id=\"text_1\">\r\n    <!-- Single user sketch graph -->\r\n    <defs>\r\n     <path d=\"M 53.515625 70.515625 \r\nL 53.515625 60.890625 \r\nQ 47.90625 63.578125 42.921875 64.890625 \r\nQ 37.9375 66.21875 33.296875 66.21875 \r\nQ 25.25 66.21875 20.875 63.09375 \r\nQ 16.5 59.96875 16.5 54.203125 \r\nQ 16.5 49.359375 19.40625 46.890625 \r\nQ 22.3125 44.4375 30.421875 42.921875 \r\nL 36.375 41.703125 \r\nQ 47.40625 39.59375 52.65625 34.296875 \r\nQ 57.90625 29 57.90625 20.125 \r\nQ 57.90625 9.515625 50.796875 4.046875 \r\nQ 43.703125 -1.421875 29.984375 -1.421875 \r\nQ 24.8125 -1.421875 18.96875 -0.25 \r\nQ 13.140625 0.921875 6.890625 3.21875 \r\nL 6.890625 13.375 \r\nQ 12.890625 10.015625 18.65625 8.296875 \r\nQ 24.421875 6.59375 29.984375 6.59375 \r\nQ 38.421875 6.59375 43.015625 9.90625 \r\nQ 47.609375 13.234375 47.609375 19.390625 \r\nQ 47.609375 24.75 44.3125 27.78125 \r\nQ 41.015625 30.8125 33.5 32.328125 \r\nL 27.484375 33.5 \r\nQ 16.453125 35.6875 11.515625 40.375 \r\nQ 6.59375 45.0625 6.59375 53.421875 \r\nQ 6.59375 63.09375 13.40625 68.65625 \r\nQ 20.21875 74.21875 32.171875 74.21875 \r\nQ 37.3125 74.21875 42.625 73.28125 \r\nQ 47.953125 72.359375 53.515625 70.515625 \r\nz\r\n\" id=\"DejaVuSans-83\"/>\r\n     <path d=\"M 9.421875 54.6875 \r\nL 18.40625 54.6875 \r\nL 18.40625 0 \r\nL 9.421875 0 \r\nz\r\nM 9.421875 75.984375 \r\nL 18.40625 75.984375 \r\nL 18.40625 64.59375 \r\nL 9.421875 64.59375 \r\nz\r\n\" id=\"DejaVuSans-105\"/>\r\n     <path d=\"M 54.890625 33.015625 \r\nL 54.890625 0 \r\nL 45.90625 0 \r\nL 45.90625 32.71875 \r\nQ 45.90625 40.484375 42.875 44.328125 \r\nQ 39.84375 48.1875 33.796875 48.1875 \r\nQ 26.515625 48.1875 22.3125 43.546875 \r\nQ 18.109375 38.921875 18.109375 30.90625 \r\nL 18.109375 0 \r\nL 9.078125 0 \r\nL 9.078125 54.6875 \r\nL 18.109375 54.6875 \r\nL 18.109375 46.1875 \r\nQ 21.34375 51.125 25.703125 53.5625 \r\nQ 30.078125 56 35.796875 56 \r\nQ 45.21875 56 50.046875 50.171875 \r\nQ 54.890625 44.34375 54.890625 33.015625 \r\nz\r\n\" id=\"DejaVuSans-110\"/>\r\n     <path d=\"M 45.40625 27.984375 \r\nQ 45.40625 37.75 41.375 43.109375 \r\nQ 37.359375 48.484375 30.078125 48.484375 \r\nQ 22.859375 48.484375 18.828125 43.109375 \r\nQ 14.796875 37.75 14.796875 27.984375 \r\nQ 14.796875 18.265625 18.828125 12.890625 \r\nQ 22.859375 7.515625 30.078125 7.515625 \r\nQ 37.359375 7.515625 41.375 12.890625 \r\nQ 45.40625 18.265625 45.40625 27.984375 \r\nz\r\nM 54.390625 6.78125 \r\nQ 54.390625 -7.171875 48.1875 -13.984375 \r\nQ 42 -20.796875 29.203125 -20.796875 \r\nQ 24.46875 -20.796875 20.265625 -20.09375 \r\nQ 16.0625 -19.390625 12.109375 -17.921875 \r\nL 12.109375 -9.1875 \r\nQ 16.0625 -11.328125 19.921875 -12.34375 \r\nQ 23.78125 -13.375 27.78125 -13.375 \r\nQ 36.625 -13.375 41.015625 -8.765625 \r\nQ 45.40625 -4.15625 45.40625 5.171875 \r\nL 45.40625 9.625 \r\nQ 42.625 4.78125 38.28125 2.390625 \r\nQ 33.9375 0 27.875 0 \r\nQ 17.828125 0 11.671875 7.65625 \r\nQ 5.515625 15.328125 5.515625 27.984375 \r\nQ 5.515625 40.671875 11.671875 48.328125 \r\nQ 17.828125 56 27.875 56 \r\nQ 33.9375 56 38.28125 53.609375 \r\nQ 42.625 51.21875 45.40625 46.390625 \r\nL 45.40625 54.6875 \r\nL 54.390625 54.6875 \r\nz\r\n\" id=\"DejaVuSans-103\"/>\r\n     <path d=\"M 9.421875 75.984375 \r\nL 18.40625 75.984375 \r\nL 18.40625 0 \r\nL 9.421875 0 \r\nz\r\n\" id=\"DejaVuSans-108\"/>\r\n     <path d=\"M 56.203125 29.59375 \r\nL 56.203125 25.203125 \r\nL 14.890625 25.203125 \r\nQ 15.484375 15.921875 20.484375 11.0625 \r\nQ 25.484375 6.203125 34.421875 6.203125 \r\nQ 39.59375 6.203125 44.453125 7.46875 \r\nQ 49.3125 8.734375 54.109375 11.28125 \r\nL 54.109375 2.78125 \r\nQ 49.265625 0.734375 44.1875 -0.34375 \r\nQ 39.109375 -1.421875 33.890625 -1.421875 \r\nQ 20.796875 -1.421875 13.15625 6.1875 \r\nQ 5.515625 13.8125 5.515625 26.8125 \r\nQ 5.515625 40.234375 12.765625 48.109375 \r\nQ 20.015625 56 32.328125 56 \r\nQ 43.359375 56 49.78125 48.890625 \r\nQ 56.203125 41.796875 56.203125 29.59375 \r\nz\r\nM 47.21875 32.234375 \r\nQ 47.125 39.59375 43.09375 43.984375 \r\nQ 39.0625 48.390625 32.421875 48.390625 \r\nQ 24.90625 48.390625 20.390625 44.140625 \r\nQ 15.875 39.890625 15.1875 32.171875 \r\nz\r\n\" id=\"DejaVuSans-101\"/>\r\n     <path id=\"DejaVuSans-32\"/>\r\n     <path d=\"M 8.5 21.578125 \r\nL 8.5 54.6875 \r\nL 17.484375 54.6875 \r\nL 17.484375 21.921875 \r\nQ 17.484375 14.15625 20.5 10.265625 \r\nQ 23.53125 6.390625 29.59375 6.390625 \r\nQ 36.859375 6.390625 41.078125 11.03125 \r\nQ 45.3125 15.671875 45.3125 23.6875 \r\nL 45.3125 54.6875 \r\nL 54.296875 54.6875 \r\nL 54.296875 0 \r\nL 45.3125 0 \r\nL 45.3125 8.40625 \r\nQ 42.046875 3.421875 37.71875 1 \r\nQ 33.40625 -1.421875 27.6875 -1.421875 \r\nQ 18.265625 -1.421875 13.375 4.4375 \r\nQ 8.5 10.296875 8.5 21.578125 \r\nz\r\nM 31.109375 56 \r\nz\r\n\" id=\"DejaVuSans-117\"/>\r\n     <path d=\"M 44.28125 53.078125 \r\nL 44.28125 44.578125 \r\nQ 40.484375 46.53125 36.375 47.5 \r\nQ 32.28125 48.484375 27.875 48.484375 \r\nQ 21.1875 48.484375 17.84375 46.4375 \r\nQ 14.5 44.390625 14.5 40.28125 \r\nQ 14.5 37.15625 16.890625 35.375 \r\nQ 19.28125 33.59375 26.515625 31.984375 \r\nL 29.59375 31.296875 \r\nQ 39.15625 29.25 43.1875 25.515625 \r\nQ 47.21875 21.78125 47.21875 15.09375 \r\nQ 47.21875 7.46875 41.1875 3.015625 \r\nQ 35.15625 -1.421875 24.609375 -1.421875 \r\nQ 20.21875 -1.421875 15.453125 -0.5625 \r\nQ 10.6875 0.296875 5.421875 2 \r\nL 5.421875 11.28125 \r\nQ 10.40625 8.6875 15.234375 7.390625 \r\nQ 20.0625 6.109375 24.8125 6.109375 \r\nQ 31.15625 6.109375 34.5625 8.28125 \r\nQ 37.984375 10.453125 37.984375 14.40625 \r\nQ 37.984375 18.0625 35.515625 20.015625 \r\nQ 33.0625 21.96875 24.703125 23.78125 \r\nL 21.578125 24.515625 \r\nQ 13.234375 26.265625 9.515625 29.90625 \r\nQ 5.8125 33.546875 5.8125 39.890625 \r\nQ 5.8125 47.609375 11.28125 51.796875 \r\nQ 16.75 56 26.8125 56 \r\nQ 31.78125 56 36.171875 55.265625 \r\nQ 40.578125 54.546875 44.28125 53.078125 \r\nz\r\n\" id=\"DejaVuSans-115\"/>\r\n     <path d=\"M 41.109375 46.296875 \r\nQ 39.59375 47.171875 37.8125 47.578125 \r\nQ 36.03125 48 33.890625 48 \r\nQ 26.265625 48 22.1875 43.046875 \r\nQ 18.109375 38.09375 18.109375 28.8125 \r\nL 18.109375 0 \r\nL 9.078125 0 \r\nL 9.078125 54.6875 \r\nL 18.109375 54.6875 \r\nL 18.109375 46.1875 \r\nQ 20.953125 51.171875 25.484375 53.578125 \r\nQ 30.03125 56 36.53125 56 \r\nQ 37.453125 56 38.578125 55.875 \r\nQ 39.703125 55.765625 41.0625 55.515625 \r\nz\r\n\" id=\"DejaVuSans-114\"/>\r\n     <path d=\"M 9.078125 75.984375 \r\nL 18.109375 75.984375 \r\nL 18.109375 31.109375 \r\nL 44.921875 54.6875 \r\nL 56.390625 54.6875 \r\nL 27.390625 29.109375 \r\nL 57.625 0 \r\nL 45.90625 0 \r\nL 18.109375 26.703125 \r\nL 18.109375 0 \r\nL 9.078125 0 \r\nz\r\n\" id=\"DejaVuSans-107\"/>\r\n     <path d=\"M 18.3125 70.21875 \r\nL 18.3125 54.6875 \r\nL 36.8125 54.6875 \r\nL 36.8125 47.703125 \r\nL 18.3125 47.703125 \r\nL 18.3125 18.015625 \r\nQ 18.3125 11.328125 20.140625 9.421875 \r\nQ 21.96875 7.515625 27.59375 7.515625 \r\nL 36.8125 7.515625 \r\nL 36.8125 0 \r\nL 27.59375 0 \r\nQ 17.1875 0 13.234375 3.875 \r\nQ 9.28125 7.765625 9.28125 18.015625 \r\nL 9.28125 47.703125 \r\nL 2.6875 47.703125 \r\nL 2.6875 54.6875 \r\nL 9.28125 54.6875 \r\nL 9.28125 70.21875 \r\nz\r\n\" id=\"DejaVuSans-116\"/>\r\n     <path d=\"M 48.78125 52.59375 \r\nL 48.78125 44.1875 \r\nQ 44.96875 46.296875 41.140625 47.34375 \r\nQ 37.3125 48.390625 33.40625 48.390625 \r\nQ 24.65625 48.390625 19.8125 42.84375 \r\nQ 14.984375 37.3125 14.984375 27.296875 \r\nQ 14.984375 17.28125 19.8125 11.734375 \r\nQ 24.65625 6.203125 33.40625 6.203125 \r\nQ 37.3125 6.203125 41.140625 7.25 \r\nQ 44.96875 8.296875 48.78125 10.40625 \r\nL 48.78125 2.09375 \r\nQ 45.015625 0.34375 40.984375 -0.53125 \r\nQ 36.96875 -1.421875 32.421875 -1.421875 \r\nQ 20.0625 -1.421875 12.78125 6.34375 \r\nQ 5.515625 14.109375 5.515625 27.296875 \r\nQ 5.515625 40.671875 12.859375 48.328125 \r\nQ 20.21875 56 33.015625 56 \r\nQ 37.15625 56 41.109375 55.140625 \r\nQ 45.0625 54.296875 48.78125 52.59375 \r\nz\r\n\" id=\"DejaVuSans-99\"/>\r\n     <path d=\"M 54.890625 33.015625 \r\nL 54.890625 0 \r\nL 45.90625 0 \r\nL 45.90625 32.71875 \r\nQ 45.90625 40.484375 42.875 44.328125 \r\nQ 39.84375 48.1875 33.796875 48.1875 \r\nQ 26.515625 48.1875 22.3125 43.546875 \r\nQ 18.109375 38.921875 18.109375 30.90625 \r\nL 18.109375 0 \r\nL 9.078125 0 \r\nL 9.078125 75.984375 \r\nL 18.109375 75.984375 \r\nL 18.109375 46.1875 \r\nQ 21.34375 51.125 25.703125 53.5625 \r\nQ 30.078125 56 35.796875 56 \r\nQ 45.21875 56 50.046875 50.171875 \r\nQ 54.890625 44.34375 54.890625 33.015625 \r\nz\r\n\" id=\"DejaVuSans-104\"/>\r\n     <path d=\"M 34.28125 27.484375 \r\nQ 23.390625 27.484375 19.1875 25 \r\nQ 14.984375 22.515625 14.984375 16.5 \r\nQ 14.984375 11.71875 18.140625 8.90625 \r\nQ 21.296875 6.109375 26.703125 6.109375 \r\nQ 34.1875 6.109375 38.703125 11.40625 \r\nQ 43.21875 16.703125 43.21875 25.484375 \r\nL 43.21875 27.484375 \r\nz\r\nM 52.203125 31.203125 \r\nL 52.203125 0 \r\nL 43.21875 0 \r\nL 43.21875 8.296875 \r\nQ 40.140625 3.328125 35.546875 0.953125 \r\nQ 30.953125 -1.421875 24.3125 -1.421875 \r\nQ 15.921875 -1.421875 10.953125 3.296875 \r\nQ 6 8.015625 6 15.921875 \r\nQ 6 25.140625 12.171875 29.828125 \r\nQ 18.359375 34.515625 30.609375 34.515625 \r\nL 43.21875 34.515625 \r\nL 43.21875 35.40625 \r\nQ 43.21875 41.609375 39.140625 45 \r\nQ 35.0625 48.390625 27.6875 48.390625 \r\nQ 23 48.390625 18.546875 47.265625 \r\nQ 14.109375 46.140625 10.015625 43.890625 \r\nL 10.015625 52.203125 \r\nQ 14.9375 54.109375 19.578125 55.046875 \r\nQ 24.21875 56 28.609375 56 \r\nQ 40.484375 56 46.34375 49.84375 \r\nQ 52.203125 43.703125 52.203125 31.203125 \r\nz\r\n\" id=\"DejaVuSans-97\"/>\r\n     <path d=\"M 18.109375 8.203125 \r\nL 18.109375 -20.796875 \r\nL 9.078125 -20.796875 \r\nL 9.078125 54.6875 \r\nL 18.109375 54.6875 \r\nL 18.109375 46.390625 \r\nQ 20.953125 51.265625 25.265625 53.625 \r\nQ 29.59375 56 35.59375 56 \r\nQ 45.5625 56 51.78125 48.09375 \r\nQ 58.015625 40.1875 58.015625 27.296875 \r\nQ 58.015625 14.40625 51.78125 6.484375 \r\nQ 45.5625 -1.421875 35.59375 -1.421875 \r\nQ 29.59375 -1.421875 25.265625 0.953125 \r\nQ 20.953125 3.328125 18.109375 8.203125 \r\nz\r\nM 48.6875 27.296875 \r\nQ 48.6875 37.203125 44.609375 42.84375 \r\nQ 40.53125 48.484375 33.40625 48.484375 \r\nQ 26.265625 48.484375 22.1875 42.84375 \r\nQ 18.109375 37.203125 18.109375 27.296875 \r\nQ 18.109375 17.390625 22.1875 11.75 \r\nQ 26.265625 6.109375 33.40625 6.109375 \r\nQ 40.53125 6.109375 44.609375 11.75 \r\nQ 48.6875 17.390625 48.6875 27.296875 \r\nz\r\n\" id=\"DejaVuSans-112\"/>\r\n    </defs>\r\n    <g transform=\"translate(66.559688 16.318125)scale(0.12 -0.12)\">\r\n     <use xlink:href=\"#DejaVuSans-83\"/>\r\n     <use x=\"63.476562\" xlink:href=\"#DejaVuSans-105\"/>\r\n     <use x=\"91.259766\" xlink:href=\"#DejaVuSans-110\"/>\r\n     <use x=\"154.638672\" xlink:href=\"#DejaVuSans-103\"/>\r\n     <use x=\"218.115234\" xlink:href=\"#DejaVuSans-108\"/>\r\n     <use x=\"245.898438\" xlink:href=\"#DejaVuSans-101\"/>\r\n     <use x=\"307.421875\" xlink:href=\"#DejaVuSans-32\"/>\r\n     <use x=\"339.208984\" xlink:href=\"#DejaVuSans-117\"/>\r\n     <use x=\"402.587891\" xlink:href=\"#DejaVuSans-115\"/>\r\n     <use x=\"454.6875\" xlink:href=\"#DejaVuSans-101\"/>\r\n     <use x=\"516.210938\" xlink:href=\"#DejaVuSans-114\"/>\r\n     <use x=\"557.324219\" xlink:href=\"#DejaVuSans-32\"/>\r\n     <use x=\"589.111328\" xlink:href=\"#DejaVuSans-115\"/>\r\n     <use x=\"641.210938\" xlink:href=\"#DejaVuSans-107\"/>\r\n     <use x=\"699.074219\" xlink:href=\"#DejaVuSans-101\"/>\r\n     <use x=\"760.597656\" xlink:href=\"#DejaVuSans-116\"/>\r\n     <use x=\"799.806641\" xlink:href=\"#DejaVuSans-99\"/>\r\n     <use x=\"854.787109\" xlink:href=\"#DejaVuSans-104\"/>\r\n     <use x=\"918.166016\" xlink:href=\"#DejaVuSans-32\"/>\r\n     <use x=\"949.953125\" xlink:href=\"#DejaVuSans-103\"/>\r\n     <use x=\"1013.429688\" xlink:href=\"#DejaVuSans-114\"/>\r\n     <use x=\"1054.542969\" xlink:href=\"#DejaVuSans-97\"/>\r\n     <use x=\"1115.822266\" xlink:href=\"#DejaVuSans-112\"/>\r\n     <use x=\"1179.298828\" xlink:href=\"#DejaVuSans-104\"/>\r\n    </g>\r\n   </g>\r\n  </g>\r\n  <g id=\"axes_2\">\r\n   <g id=\"patch_21\">\r\n    <path clip-path=\"url(#p64bf12f002)\" d=\"M 291.78 239.758125 \r\nL 291.78 238.90875 \r\nL 291.78 23.1675 \r\nL 291.78 22.318125 \r\nL 302.652 22.318125 \r\nL 302.652 23.1675 \r\nL 302.652 238.90875 \r\nL 302.652 239.758125 \r\nz\r\n\" style=\"fill:#ffffff;stroke:#ffffff;stroke-linejoin:miter;stroke-width:0.01;\"/>\r\n   </g>\r\n   <image height=\"218\" id=\"imageaaeabf0c75\" transform=\"scale(1 -1)translate(0 -218)\" width=\"11\" x=\"292\" xlink:href=\"data:image/png;base64,\r\niVBORw0KGgoAAAANSUhEUgAAAAsAAADaCAYAAABwzrisAAAABHNCSVQICAgIfAhkiAAAASNJREFUaIHtmkEOAjEMAwPq/5/LAdEuV44ZpJHcAmfLchKvk11xezyvq5q/cVUbWwNgawBsjb5iqpkxR8i496FVYwFqWiAAQ2+cPUHR/EU0r4zWebmBzL9jfCHNbNwZE0x5YDds3d/8n+AdzY8m6BXoMXvemN7Zg1x3fDf62BoX8jNhhleuJQMxe32G4/a6AcDee8oL5FfK040id5IC4c1vMXs7ZQKPmhs2xPwac4iRmPn7xGaYe+NeLAqIjL4KNTdYmEcEo3jze6tNvJ+9nbKhN7SsE2/RDGYvCn6gG5aMmAIjNIu7+/RxM7DoDQvMvl6u/ukqyghp3X/cX8vY0RuoGyGai4FJgWtGyGBgIoMVqMkIYUbdIMGYMu4tzX92gegvRm/CqN4T9eEkCAAAAABJRU5ErkJggg==\" y=\"-21\"/>\r\n   <g id=\"matplotlib.axis_1\"/>\r\n   <g id=\"matplotlib.axis_2\">\r\n    <g id=\"ytick_1\">\r\n     <g id=\"line2d_1\">\r\n      <defs>\r\n       <path d=\"M 0 0 \r\nL 3.5 0 \r\n\" id=\"m7309d110a1\" style=\"stroke:#000000;stroke-width:0.8;\"/>\r\n      </defs>\r\n      <g>\r\n       <use style=\"stroke:#000000;stroke-width:0.8;\" x=\"302.652\" xlink:href=\"#m7309d110a1\" y=\"239.758125\"/>\r\n      </g>\r\n     </g>\r\n     <g id=\"text_2\">\r\n      <!-- 2 -->\r\n      <defs>\r\n       <path d=\"M 19.1875 8.296875 \r\nL 53.609375 8.296875 \r\nL 53.609375 0 \r\nL 7.328125 0 \r\nL 7.328125 8.296875 \r\nQ 12.9375 14.109375 22.625 23.890625 \r\nQ 32.328125 33.6875 34.8125 36.53125 \r\nQ 39.546875 41.84375 41.421875 45.53125 \r\nQ 43.3125 49.21875 43.3125 52.78125 \r\nQ 43.3125 58.59375 39.234375 62.25 \r\nQ 35.15625 65.921875 28.609375 65.921875 \r\nQ 23.96875 65.921875 18.8125 64.3125 \r\nQ 13.671875 62.703125 7.8125 59.421875 \r\nL 7.8125 69.390625 \r\nQ 13.765625 71.78125 18.9375 73 \r\nQ 24.125 74.21875 28.421875 74.21875 \r\nQ 39.75 74.21875 46.484375 68.546875 \r\nQ 53.21875 62.890625 53.21875 53.421875 \r\nQ 53.21875 48.921875 51.53125 44.890625 \r\nQ 49.859375 40.875 45.40625 35.40625 \r\nQ 44.1875 33.984375 37.640625 27.21875 \r\nQ 31.109375 20.453125 19.1875 8.296875 \r\nz\r\n\" id=\"DejaVuSans-50\"/>\r\n      </defs>\r\n      <g transform=\"translate(309.652 243.557344)scale(0.1 -0.1)\">\r\n       <use xlink:href=\"#DejaVuSans-50\"/>\r\n      </g>\r\n     </g>\r\n    </g>\r\n    <g id=\"ytick_2\">\r\n     <g id=\"line2d_2\">\r\n      <g>\r\n       <use style=\"stroke:#000000;stroke-width:0.8;\" x=\"302.652\" xlink:href=\"#m7309d110a1\" y=\"215.598125\"/>\r\n      </g>\r\n     </g>\r\n     <g id=\"text_3\">\r\n      <!-- 4 -->\r\n      <defs>\r\n       <path d=\"M 37.796875 64.3125 \r\nL 12.890625 25.390625 \r\nL 37.796875 25.390625 \r\nz\r\nM 35.203125 72.90625 \r\nL 47.609375 72.90625 \r\nL 47.609375 25.390625 \r\nL 58.015625 25.390625 \r\nL 58.015625 17.1875 \r\nL 47.609375 17.1875 \r\nL 47.609375 0 \r\nL 37.796875 0 \r\nL 37.796875 17.1875 \r\nL 4.890625 17.1875 \r\nL 4.890625 26.703125 \r\nz\r\n\" id=\"DejaVuSans-52\"/>\r\n      </defs>\r\n      <g transform=\"translate(309.652 219.397344)scale(0.1 -0.1)\">\r\n       <use xlink:href=\"#DejaVuSans-52\"/>\r\n      </g>\r\n     </g>\r\n    </g>\r\n    <g id=\"ytick_3\">\r\n     <g id=\"line2d_3\">\r\n      <g>\r\n       <use style=\"stroke:#000000;stroke-width:0.8;\" x=\"302.652\" xlink:href=\"#m7309d110a1\" y=\"191.438125\"/>\r\n      </g>\r\n     </g>\r\n     <g id=\"text_4\">\r\n      <!-- 6 -->\r\n      <defs>\r\n       <path d=\"M 33.015625 40.375 \r\nQ 26.375 40.375 22.484375 35.828125 \r\nQ 18.609375 31.296875 18.609375 23.390625 \r\nQ 18.609375 15.53125 22.484375 10.953125 \r\nQ 26.375 6.390625 33.015625 6.390625 \r\nQ 39.65625 6.390625 43.53125 10.953125 \r\nQ 47.40625 15.53125 47.40625 23.390625 \r\nQ 47.40625 31.296875 43.53125 35.828125 \r\nQ 39.65625 40.375 33.015625 40.375 \r\nz\r\nM 52.59375 71.296875 \r\nL 52.59375 62.3125 \r\nQ 48.875 64.0625 45.09375 64.984375 \r\nQ 41.3125 65.921875 37.59375 65.921875 \r\nQ 27.828125 65.921875 22.671875 59.328125 \r\nQ 17.53125 52.734375 16.796875 39.40625 \r\nQ 19.671875 43.65625 24.015625 45.921875 \r\nQ 28.375 48.1875 33.59375 48.1875 \r\nQ 44.578125 48.1875 50.953125 41.515625 \r\nQ 57.328125 34.859375 57.328125 23.390625 \r\nQ 57.328125 12.15625 50.6875 5.359375 \r\nQ 44.046875 -1.421875 33.015625 -1.421875 \r\nQ 20.359375 -1.421875 13.671875 8.265625 \r\nQ 6.984375 17.96875 6.984375 36.375 \r\nQ 6.984375 53.65625 15.1875 63.9375 \r\nQ 23.390625 74.21875 37.203125 74.21875 \r\nQ 40.921875 74.21875 44.703125 73.484375 \r\nQ 48.484375 72.75 52.59375 71.296875 \r\nz\r\n\" id=\"DejaVuSans-54\"/>\r\n      </defs>\r\n      <g transform=\"translate(309.652 195.237344)scale(0.1 -0.1)\">\r\n       <use xlink:href=\"#DejaVuSans-54\"/>\r\n      </g>\r\n     </g>\r\n    </g>\r\n    <g id=\"ytick_4\">\r\n     <g id=\"line2d_4\">\r\n      <g>\r\n       <use style=\"stroke:#000000;stroke-width:0.8;\" x=\"302.652\" xlink:href=\"#m7309d110a1\" y=\"167.278125\"/>\r\n      </g>\r\n     </g>\r\n     <g id=\"text_5\">\r\n      <!-- 8 -->\r\n      <defs>\r\n       <path d=\"M 31.78125 34.625 \r\nQ 24.75 34.625 20.71875 30.859375 \r\nQ 16.703125 27.09375 16.703125 20.515625 \r\nQ 16.703125 13.921875 20.71875 10.15625 \r\nQ 24.75 6.390625 31.78125 6.390625 \r\nQ 38.8125 6.390625 42.859375 10.171875 \r\nQ 46.921875 13.96875 46.921875 20.515625 \r\nQ 46.921875 27.09375 42.890625 30.859375 \r\nQ 38.875 34.625 31.78125 34.625 \r\nz\r\nM 21.921875 38.8125 \r\nQ 15.578125 40.375 12.03125 44.71875 \r\nQ 8.5 49.078125 8.5 55.328125 \r\nQ 8.5 64.0625 14.71875 69.140625 \r\nQ 20.953125 74.21875 31.78125 74.21875 \r\nQ 42.671875 74.21875 48.875 69.140625 \r\nQ 55.078125 64.0625 55.078125 55.328125 \r\nQ 55.078125 49.078125 51.53125 44.71875 \r\nQ 48 40.375 41.703125 38.8125 \r\nQ 48.828125 37.15625 52.796875 32.3125 \r\nQ 56.78125 27.484375 56.78125 20.515625 \r\nQ 56.78125 9.90625 50.3125 4.234375 \r\nQ 43.84375 -1.421875 31.78125 -1.421875 \r\nQ 19.734375 -1.421875 13.25 4.234375 \r\nQ 6.78125 9.90625 6.78125 20.515625 \r\nQ 6.78125 27.484375 10.78125 32.3125 \r\nQ 14.796875 37.15625 21.921875 38.8125 \r\nz\r\nM 18.3125 54.390625 \r\nQ 18.3125 48.734375 21.84375 45.5625 \r\nQ 25.390625 42.390625 31.78125 42.390625 \r\nQ 38.140625 42.390625 41.71875 45.5625 \r\nQ 45.3125 48.734375 45.3125 54.390625 \r\nQ 45.3125 60.0625 41.71875 63.234375 \r\nQ 38.140625 66.40625 31.78125 66.40625 \r\nQ 25.390625 66.40625 21.84375 63.234375 \r\nQ 18.3125 60.0625 18.3125 54.390625 \r\nz\r\n\" id=\"DejaVuSans-56\"/>\r\n      </defs>\r\n      <g transform=\"translate(309.652 171.077344)scale(0.1 -0.1)\">\r\n       <use xlink:href=\"#DejaVuSans-56\"/>\r\n      </g>\r\n     </g>\r\n    </g>\r\n    <g id=\"ytick_5\">\r\n     <g id=\"line2d_5\">\r\n      <g>\r\n       <use style=\"stroke:#000000;stroke-width:0.8;\" x=\"302.652\" xlink:href=\"#m7309d110a1\" y=\"143.118125\"/>\r\n      </g>\r\n     </g>\r\n     <g id=\"text_6\">\r\n      <!-- 10 -->\r\n      <defs>\r\n       <path d=\"M 12.40625 8.296875 \r\nL 28.515625 8.296875 \r\nL 28.515625 63.921875 \r\nL 10.984375 60.40625 \r\nL 10.984375 69.390625 \r\nL 28.421875 72.90625 \r\nL 38.28125 72.90625 \r\nL 38.28125 8.296875 \r\nL 54.390625 8.296875 \r\nL 54.390625 0 \r\nL 12.40625 0 \r\nz\r\n\" id=\"DejaVuSans-49\"/>\r\n       <path d=\"M 31.78125 66.40625 \r\nQ 24.171875 66.40625 20.328125 58.90625 \r\nQ 16.5 51.421875 16.5 36.375 \r\nQ 16.5 21.390625 20.328125 13.890625 \r\nQ 24.171875 6.390625 31.78125 6.390625 \r\nQ 39.453125 6.390625 43.28125 13.890625 \r\nQ 47.125 21.390625 47.125 36.375 \r\nQ 47.125 51.421875 43.28125 58.90625 \r\nQ 39.453125 66.40625 31.78125 66.40625 \r\nz\r\nM 31.78125 74.21875 \r\nQ 44.046875 74.21875 50.515625 64.515625 \r\nQ 56.984375 54.828125 56.984375 36.375 \r\nQ 56.984375 17.96875 50.515625 8.265625 \r\nQ 44.046875 -1.421875 31.78125 -1.421875 \r\nQ 19.53125 -1.421875 13.0625 8.265625 \r\nQ 6.59375 17.96875 6.59375 36.375 \r\nQ 6.59375 54.828125 13.0625 64.515625 \r\nQ 19.53125 74.21875 31.78125 74.21875 \r\nz\r\n\" id=\"DejaVuSans-48\"/>\r\n      </defs>\r\n      <g transform=\"translate(309.652 146.917344)scale(0.1 -0.1)\">\r\n       <use xlink:href=\"#DejaVuSans-49\"/>\r\n       <use x=\"63.623047\" xlink:href=\"#DejaVuSans-48\"/>\r\n      </g>\r\n     </g>\r\n    </g>\r\n    <g id=\"ytick_6\">\r\n     <g id=\"line2d_6\">\r\n      <g>\r\n       <use style=\"stroke:#000000;stroke-width:0.8;\" x=\"302.652\" xlink:href=\"#m7309d110a1\" y=\"118.958125\"/>\r\n      </g>\r\n     </g>\r\n     <g id=\"text_7\">\r\n      <!-- 12 -->\r\n      <g transform=\"translate(309.652 122.757344)scale(0.1 -0.1)\">\r\n       <use xlink:href=\"#DejaVuSans-49\"/>\r\n       <use x=\"63.623047\" xlink:href=\"#DejaVuSans-50\"/>\r\n      </g>\r\n     </g>\r\n    </g>\r\n    <g id=\"ytick_7\">\r\n     <g id=\"line2d_7\">\r\n      <g>\r\n       <use style=\"stroke:#000000;stroke-width:0.8;\" x=\"302.652\" xlink:href=\"#m7309d110a1\" y=\"94.798125\"/>\r\n      </g>\r\n     </g>\r\n     <g id=\"text_8\">\r\n      <!-- 14 -->\r\n      <g transform=\"translate(309.652 98.597344)scale(0.1 -0.1)\">\r\n       <use xlink:href=\"#DejaVuSans-49\"/>\r\n       <use x=\"63.623047\" xlink:href=\"#DejaVuSans-52\"/>\r\n      </g>\r\n     </g>\r\n    </g>\r\n    <g id=\"ytick_8\">\r\n     <g id=\"line2d_8\">\r\n      <g>\r\n       <use style=\"stroke:#000000;stroke-width:0.8;\" x=\"302.652\" xlink:href=\"#m7309d110a1\" y=\"70.638125\"/>\r\n      </g>\r\n     </g>\r\n     <g id=\"text_9\">\r\n      <!-- 16 -->\r\n      <g transform=\"translate(309.652 74.437344)scale(0.1 -0.1)\">\r\n       <use xlink:href=\"#DejaVuSans-49\"/>\r\n       <use x=\"63.623047\" xlink:href=\"#DejaVuSans-54\"/>\r\n      </g>\r\n     </g>\r\n    </g>\r\n    <g id=\"ytick_9\">\r\n     <g id=\"line2d_9\">\r\n      <g>\r\n       <use style=\"stroke:#000000;stroke-width:0.8;\" x=\"302.652\" xlink:href=\"#m7309d110a1\" y=\"46.478125\"/>\r\n      </g>\r\n     </g>\r\n     <g id=\"text_10\">\r\n      <!-- 18 -->\r\n      <g transform=\"translate(309.652 50.277344)scale(0.1 -0.1)\">\r\n       <use xlink:href=\"#DejaVuSans-49\"/>\r\n       <use x=\"63.623047\" xlink:href=\"#DejaVuSans-56\"/>\r\n      </g>\r\n     </g>\r\n    </g>\r\n    <g id=\"ytick_10\">\r\n     <g id=\"line2d_10\">\r\n      <g>\r\n       <use style=\"stroke:#000000;stroke-width:0.8;\" x=\"302.652\" xlink:href=\"#m7309d110a1\" y=\"22.318125\"/>\r\n      </g>\r\n     </g>\r\n     <g id=\"text_11\">\r\n      <!-- 20 -->\r\n      <g transform=\"translate(309.652 26.117344)scale(0.1 -0.1)\">\r\n       <use xlink:href=\"#DejaVuSans-50\"/>\r\n       <use x=\"63.623047\" xlink:href=\"#DejaVuSans-48\"/>\r\n      </g>\r\n     </g>\r\n    </g>\r\n   </g>\r\n   <g id=\"patch_22\">\r\n    <path d=\"M 291.78 239.758125 \r\nL 291.78 238.90875 \r\nL 291.78 23.1675 \r\nL 291.78 22.318125 \r\nL 302.652 22.318125 \r\nL 302.652 23.1675 \r\nL 302.652 238.90875 \r\nL 302.652 239.758125 \r\nz\r\n\" style=\"fill:none;stroke:#000000;stroke-linejoin:miter;stroke-width:0.8;\"/>\r\n   </g>\r\n  </g>\r\n </g>\r\n <defs>\r\n  <clipPath id=\"p464f4b3386\">\r\n   <rect height=\"217.44\" width=\"267.84\" x=\"7.2\" y=\"22.318125\"/>\r\n  </clipPath>\r\n  <clipPath id=\"p64bf12f002\">\r\n   <rect height=\"217.44\" width=\"10.872\" x=\"291.78\" y=\"22.318125\"/>\r\n  </clipPath>\r\n </defs>\r\n</svg>\r\n",
      "image/png": "[encoded data removed]"
     },
     "metadata": {
      "needs_background": "light"
     }
    }
   ],
   "source": [
    "pos = nx.layout.spring_layout(G)\n",
    "\n",
    "node_sizes = [3 + 10 * i for i in range(len(G))]\n",
    "M = G.number_of_edges()\n",
    "edge_colors = range(2, M + 2)\n",
    "edge_alphas = [i / M  for i in range(M)]\n",
    "\n",
    "nodes = nx.draw_networkx_nodes(G, pos, node_size=node_sizes, node_color=\"blue\")\n",
    "edges = nx.draw_networkx_edges(\n",
    "    G,\n",
    "    pos,\n",
    "    node_size=node_sizes,\n",
    "    arrowstyle=\"->\",\n",
    "    arrowsize=16,\n",
    "    edge_color=edge_colors,\n",
    "    edge_cmap=plt.cm.Blues,\n",
    "    connectionstyle=\"arc3,rad=0.3\",\n",
    "    width=4,\n",
    ")\n",
    "# set alpha value for each edge\n",
    "# for i in range(M):\n",
    "#     edges[i].set_alpha(edge_alphas[i])\n",
    "\n",
    "pc = mpl.collections.PatchCollection(edges, cmap=plt.cm.Blues)\n",
    "pc.set_array(edge_colors)\n",
    "plt.colorbar(pc)\n",
    "ax = plt.gca()\n",
    "ax.set_axis_off()\n",
    "plt.title('Single user sketch graph')\n",
    "plt.show()\n"
   ]
  },
  {
   "cell_type": "code",
   "execution_count": 9,
   "metadata": {},
   "outputs": [
    {
     "output_type": "stream",
     "name": "stdout",
     "text": [
      "Valid output: True\nNo of nodes: 8\nNo of uniques: 8\n   starts    ends  count\n0  (2, 1)  (1, 4)     19\n1  (3, 1)  (1, 4)      2\n2  (3, 1)  (2, 4)     11\n3  (3, 2)  (2, 4)     86\n4  (4, 1)  (2, 4)      5\n5  (4, 1)  (3, 4)    485\n6  (4, 2)  (2, 4)      2\n7  (4, 2)  (3, 4)      4\n"
     ]
    }
   ],
   "source": [
    "# Check whether amount of nodes corresponds with the amount of unique views in a data set\n",
    "lst = []\n",
    "for i in range(len(coords)):\n",
    "    lst.append(((coords.iloc[i]['s_bin_zone'], coords.iloc[i]['s_bin_band']), (coords.iloc[i]['e_bin_zone'], coords.iloc[i]['e_bin_band'])))\n",
    "\n",
    "df = pd.DataFrame(lst)\n",
    "df.columns = ['starts', 'ends']\n",
    "\n",
    "no_uniques = len(df.groupby(['starts','ends']).size().reset_index().rename(columns={0:'count'}))\n",
    "no_nodes = G.number_of_nodes()\n",
    "\n",
    "print('Valid output:', no_uniques == no_nodes)\n",
    "print('No of nodes:', no_nodes)\n",
    "print('No of uniques:', no_uniques)\n",
    "print(df.groupby(['starts','ends']).size().reset_index().rename(columns={0:'count'}))"
   ]
  },
  {
   "cell_type": "code",
   "execution_count": 6,
   "metadata": {
    "tags": []
   },
   "outputs": [],
   "source": [
    "import pandas as pd\n",
    "subject_list = [f for f in os.listdir('./data/head_tracking_data') if 'Subject' in f] # list of all subjects\n",
    "video_list = [f for f in os.listdir('./data/video_files') if 'mp4' in f] # list of all videos\n",
    "\n",
    "\n",
    "videos = {} # each video will contain all subjects\n",
    "\n",
    "frames_per_segment = 30\n",
    "\n",
    "for video_id in video_list:\n",
    "    subjects = {} # for each subject, we store segments which are in seperate lists\n",
    "\n",
    "    for subject_id in subject_list:\n",
    "        tmp_data = pd.read_fwf('data/head_tracking_data/'+ subject_id + '/' + video_id.split('.mp4')[0] + '.txt', header=None)\n",
    "        n_segments = int(len(tmp_data)/frames_per_segment) # ofc its not entirely coorect yet, it approximates how many segments\\\n",
    "        segments = []\n",
    "\n",
    "        for seg in range(n_segments):\n",
    "            # print('start ' , frames_per_segment * seg , ' end ', frames_per_segment * (seg+1))\n",
    "            start = frames_per_segment * seg\n",
    "            end = frames_per_segment * (seg+1)\n",
    "            segments.append(tmp_data[start:end])\n",
    "\n",
    "        subjects[subject_id] = segments\n",
    "\n",
    "    videos[video_id] = subjects\n"
   ]
  },
  {
   "cell_type": "code",
   "execution_count": 9,
   "metadata": {},
   "outputs": [
    {
     "output_type": "execute_result",
     "data": {
      "text/plain": [
       "dict_keys(['Subject_1', 'Subject_10', 'Subject_11', 'Subject_12', 'Subject_13', 'Subject_14', 'Subject_15', 'Subject_16', 'Subject_17', 'Subject_18', 'Subject_19', 'Subject_2', 'Subject_20', 'Subject_21', 'Subject_22', 'Subject_23', 'Subject_24', 'Subject_25', 'Subject_26', 'Subject_27', 'Subject_28', 'Subject_29', 'Subject_3', 'Subject_30', 'Subject_31', 'Subject_32', 'Subject_33', 'Subject_34', 'Subject_35', 'Subject_36', 'Subject_37', 'Subject_38', 'Subject_39', 'Subject_4', 'Subject_40', 'Subject_5', 'Subject_6', 'Subject_7', 'Subject_8', 'Subject_9'])"
      ]
     },
     "metadata": {},
     "execution_count": 9
    }
   ],
   "source": [
    "videos['AcerPredator.mp4'].keys()"
   ]
  },
  {
   "cell_type": "code",
   "execution_count": 11,
   "metadata": {},
   "outputs": [
    {
     "output_type": "execute_result",
     "data": {
      "text/plain": [
       "dict_keys(['A380.mp4', 'AcerPredator.mp4', 'AirShow.mp4', 'Antarctic.mp4', 'BFG.mp4', 'BlueWorld.mp4', 'BTSRun.mp4', 'CandyCarnival.mp4', 'CMLauncher.mp4', 'Cryogenian.mp4', 'CS.mp4', 'Dota2.mp4', 'DrivingInAlps.mp4', 'Dubai.mp4', 'Egypt.mp4', 'F5Fighter.mp4', 'GalaxyOnFire.mp4', 'Gliding.mp4', 'Graffiti.mp4', 'Help.mp4', 'HondaF1.mp4', 'IRobot.mp4', 'KasabianLive.mp4', 'LetsNotBeAloneTonight.mp4', 'LOL.mp4', 'LoopUniverse.mp4', 'MC.mp4', 'MercedesBenz.mp4', 'Parachuting.mp4', 'Pokemon.mp4', 'Predator.mp4', 'ProjectSoul.mp4', 'Rally.mp4', 'RingMan.mp4', 'RioOlympics.mp4', 'RollerCoaster.mp4', 'Skiing.mp4', 'StarryPolar.mp4', 'StarWars.mp4', 'Supercar.mp4', 'SuperMario64.mp4', 'Surfing.mp4', 'Symphony.mp4', 'Terminator.mp4', 'VRBasketball.mp4', 'WaitingForLove.mp4', 'Waterskiing.mp4', 'WesternSichuan.mp4'])"
      ]
     },
     "metadata": {},
     "execution_count": 11
    }
   ],
   "source": [
    "videos.keys()"
   ]
  },
  {
   "cell_type": "code",
   "execution_count": null,
   "metadata": {},
   "outputs": [],
   "source": []
  }
 ]
}