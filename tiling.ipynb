{
 "metadata": {
  "language_info": {
   "codemirror_mode": {
    "name": "ipython",
    "version": 3
   },
   "file_extension": ".py",
   "mimetype": "text/x-python",
   "name": "python",
   "nbconvert_exporter": "python",
   "pygments_lexer": "ipython3",
   "version": "3.7.3-final"
  },
  "orig_nbformat": 2,
  "kernelspec": {
   "name": "python3",
   "display_name": "Python 3"
  }
 },
 "nbformat": 4,
 "nbformat_minor": 2,
 "cells": [
  {
   "cell_type": "code",
   "execution_count": 4,
   "metadata": {},
   "outputs": [],
   "source": [
    "import numpy as np\n",
    "import cv2\n",
    "import pandas as pd\n",
    "import PIL\n",
    "import utm"
   ]
  },
  {
   "cell_type": "code",
   "execution_count": 5,
   "metadata": {},
   "outputs": [],
   "source": [
    "video_name = 'Help'\n",
    "data = pd.read_fwf('data/Subject_1/' + video_name + '.txt', header=None)\n",
    "\n",
    "data.columns = ['latitude', 'longitude']\n",
    "\n",
    "cap = cv2.VideoCapture('video_files/' + video_name + '.mp4')\n",
    "\n",
    "length = int(cap.get(cv2.CAP_PROP_FRAME_COUNT))\n",
    "\n",
    "ret, frame = cap.read()\n",
    "\n",
    "calc_mod = length/len(data)"
   ]
  },
  {
   "cell_type": "code",
   "execution_count": 6,
   "metadata": {},
   "outputs": [],
   "source": [
    "lst = []\n",
    "for i in range(len(data)):\n",
    "    u = utm.from_latlon(data.iloc[i].latitude, data.iloc[i].longitude)\n",
    "    lst.append(u[2:])"
   ]
  },
  {
   "cell_type": "code",
   "execution_count": 8,
   "metadata": {},
   "outputs": [],
   "source": [
    "xy = pd.DataFrame(lst)"
   ]
  },
  {
   "cell_type": "code",
   "execution_count": 10,
   "metadata": {},
   "outputs": [],
   "source": [
    "coords = pd.concat([data, xy],axis=1)\n",
    "coords.columns = ['latitude', 'longitude', 'zone', 'band']"
   ]
  },
  {
   "cell_type": "code",
   "execution_count": 11,
   "metadata": {},
   "outputs": [],
   "source": [
    "coords.band = [ ord(x) - 64 for x in coords.band ]"
   ]
  },
  {
   "cell_type": "code",
   "execution_count": 12,
   "metadata": {},
   "outputs": [
    {
     "output_type": "execute_result",
     "data": {
      "text/plain": [
       "      latitude  longitude  zone  band\n",
       "0    13.474903  18.634676    34    16\n",
       "1    13.569384  18.680785    34    16\n",
       "2    13.672114  18.687172    34    16\n",
       "3    13.748986  18.684667    34    16\n",
       "4    13.814718  18.690203    34    16\n",
       "..         ...        ...   ...   ...\n",
       "613  -0.426411 -67.713565    19    13\n",
       "614  -0.725175 -67.861549    19    13\n",
       "615  -0.856629 -67.687099    19    13\n",
       "616  -0.879255 -67.239816    19    13\n",
       "617  -0.784200 -66.666964    19    13\n",
       "\n",
       "[618 rows x 4 columns]"
      ],
      "text/html": "<div>\n<style scoped>\n    .dataframe tbody tr th:only-of-type {\n        vertical-align: middle;\n    }\n\n    .dataframe tbody tr th {\n        vertical-align: top;\n    }\n\n    .dataframe thead th {\n        text-align: right;\n    }\n</style>\n<table border=\"1\" class=\"dataframe\">\n  <thead>\n    <tr style=\"text-align: right;\">\n      <th></th>\n      <th>latitude</th>\n      <th>longitude</th>\n      <th>zone</th>\n      <th>band</th>\n    </tr>\n  </thead>\n  <tbody>\n    <tr>\n      <th>0</th>\n      <td>13.474903</td>\n      <td>18.634676</td>\n      <td>34</td>\n      <td>16</td>\n    </tr>\n    <tr>\n      <th>1</th>\n      <td>13.569384</td>\n      <td>18.680785</td>\n      <td>34</td>\n      <td>16</td>\n    </tr>\n    <tr>\n      <th>2</th>\n      <td>13.672114</td>\n      <td>18.687172</td>\n      <td>34</td>\n      <td>16</td>\n    </tr>\n    <tr>\n      <th>3</th>\n      <td>13.748986</td>\n      <td>18.684667</td>\n      <td>34</td>\n      <td>16</td>\n    </tr>\n    <tr>\n      <th>4</th>\n      <td>13.814718</td>\n      <td>18.690203</td>\n      <td>34</td>\n      <td>16</td>\n    </tr>\n    <tr>\n      <th>...</th>\n      <td>...</td>\n      <td>...</td>\n      <td>...</td>\n      <td>...</td>\n    </tr>\n    <tr>\n      <th>613</th>\n      <td>-0.426411</td>\n      <td>-67.713565</td>\n      <td>19</td>\n      <td>13</td>\n    </tr>\n    <tr>\n      <th>614</th>\n      <td>-0.725175</td>\n      <td>-67.861549</td>\n      <td>19</td>\n      <td>13</td>\n    </tr>\n    <tr>\n      <th>615</th>\n      <td>-0.856629</td>\n      <td>-67.687099</td>\n      <td>19</td>\n      <td>13</td>\n    </tr>\n    <tr>\n      <th>616</th>\n      <td>-0.879255</td>\n      <td>-67.239816</td>\n      <td>19</td>\n      <td>13</td>\n    </tr>\n    <tr>\n      <th>617</th>\n      <td>-0.784200</td>\n      <td>-66.666964</td>\n      <td>19</td>\n      <td>13</td>\n    </tr>\n  </tbody>\n</table>\n<p>618 rows × 4 columns</p>\n</div>"
     },
     "metadata": {},
     "execution_count": 12
    }
   ],
   "source": [
    "coords"
   ]
  },
  {
   "cell_type": "code",
   "execution_count": null,
   "metadata": {},
   "outputs": [],
   "source": []
  }
 ]
}