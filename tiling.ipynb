{
 "metadata": {
  "language_info": {
   "codemirror_mode": {
    "name": "ipython",
    "version": 3
   },
   "file_extension": ".py",
   "mimetype": "text/x-python",
   "name": "python",
   "nbconvert_exporter": "python",
   "pygments_lexer": "ipython3",
   "version": "3.8.5-final"
  },
  "orig_nbformat": 2,
  "kernelspec": {
   "name": "python3",
   "display_name": "Python 3",
   "language": "python"
  }
 },
 "nbformat": 4,
 "nbformat_minor": 2,
 "cells": [
  {
   "cell_type": "code",
   "execution_count": null,
   "metadata": {},
   "outputs": [],
   "source": [
    "import numpy as np\n",
    "import cv2\n",
    "import pandas as pd\n",
    "import PIL\n",
    "import utm\n",
    "import matplotlib.pyplot as plt\n",
    "import networkx as nx\n",
    "import matplotlib as mpl\n",
    "import os"
   ]
  },
  {
   "cell_type": "code",
   "execution_count": null,
   "metadata": {},
   "outputs": [],
   "source": [
    "video_name = 'Help'\n",
    "data = pd.read_fwf('data/head_tracking_data/Subject_6/' + video_name + '.txt', header=None)\n",
    "\n",
    "data.columns = ['latitude', 'longitude']\n",
    "\n",
    "cap = cv2.VideoCapture('data/video_files/' + video_name + '.mp4')"
   ]
  },
  {
   "source": [
    "def start_end_point(lat, lon):\n",
    "    start = (lon - 55, lat + 50)\n",
    "    end = (lon + 55, lat - 50)\n",
    "    return(start, end)\n",
    "\n",
    "starting_points = []\n",
    "ending_points = []\n",
    "\n",
    "# Determine top left and bottom right UTM coordinates of the viewport\n",
    "for i in range(len(data)):\n",
    "    start, end = start_end_point(data.iloc[i]['latitude'], data.iloc[i]['longitude'])\n",
    "    \n",
    "    start_utm = utm.from_latlon(start[1], start[0])\n",
    "    starting_points.append(start_utm[2:])\n",
    "    \n",
    "    end_utm = utm.from_latlon(end[1], end[0])\n",
    "    ending_points.append(end_utm[2:])\n",
    "\n",
    "starting_zones = pd.DataFrame(starting_points)\n",
    "ending_zones = pd.DataFrame(ending_points)"
   ],
   "cell_type": "code",
   "metadata": {},
   "execution_count": null,
   "outputs": []
  },
  {
   "cell_type": "code",
   "execution_count": null,
   "metadata": {},
   "outputs": [],
   "source": [
    "# concatenate zones and zone bands to dataframe\n",
    "coords = pd.concat([data, starting_zones, ending_zones],axis=1)\n",
    "coords.columns = ['latitude', 'longitude', 's_zone', 's_band', 'e_zone', 'e_band']"
   ]
  },
  {
   "cell_type": "code",
   "execution_count": null,
   "metadata": {},
   "outputs": [],
   "source": [
    "# convert band-letters to numbers - issue exists because mercator zones omit the letters \"I\" and \"O\"\n",
    "coords['ns_band'] = [ ord(x) - 64 for x in coords.s_band ]\n",
    "coords['ne_band'] = [ ord(x) - 64 for x in coords.e_band ]"
   ]
  },
  {
   "cell_type": "code",
   "execution_count": null,
   "metadata": {
    "tags": []
   },
   "outputs": [],
   "source": [
    "# Probably here we can work out the size of a tile\n",
    "# Determine bins (for 4x4 tiling it will be 15 UTM zones and 6 UTM bands)\n",
    "bins_zone = [i*15 for i in range(0,5)]\n",
    "labels_zone = [i for i in range(1,5)]\n",
    "\n",
    "bins_band = [i*6 for i in range(0,5)]\n",
    "labels_band = [i for i in range(1,5)]\n",
    "\n",
    "# Binning results\n",
    "coords['s_bin_zone'] = pd.DataFrame(pd.cut(coords['s_zone'], bins=bins_zone, labels=labels_zone))\n",
    "coords['s_bin_band'] = pd.DataFrame(pd.cut(coords['ns_band'], bins=bins_band, labels=labels_band))\n",
    "coords['e_bin_zone'] = pd.DataFrame(pd.cut(coords['e_zone'], bins=bins_zone, labels=labels_zone))\n",
    "coords['e_bin_band'] = pd.DataFrame(pd.cut(coords['ne_band'], bins=bins_band, labels=labels_band))"
   ]
  },
  {
   "cell_type": "code",
   "execution_count": null,
   "metadata": {},
   "outputs": [],
   "source": [
    "G = nx.DiGraph()\n",
    "for i in range(len(coords)-1):\n",
    "\n",
    "    prev_top_left_zone = (coords.iloc[i]['s_bin_zone'], coords.iloc[i]['s_bin_band'])\n",
    "    prev_bottom_right_zone = (coords.iloc[i]['e_bin_zone'], coords.iloc[i]['e_bin_band'])\n",
    "    curr_top_left_zone = (coords.iloc[i+1]['s_bin_zone'], coords.iloc[i+1]['s_bin_band'])\n",
    "    curr_bottom_right_zone = (coords.iloc[i+1]['e_bin_zone'], coords.iloc[i+1]['e_bin_band'])\n",
    "\n",
    "    # connect previous set of [top left zone, bottom right zone] to current [top left zone, bottom right zone]\n",
    "    G.add_edge((prev_top_left_zone, prev_bottom_right_zone), (curr_top_left_zone, curr_bottom_right_zone))\n",
    "    "
   ]
  },
  {
   "cell_type": "code",
   "execution_count": null,
   "metadata": {},
   "outputs": [],
   "source": [
    "pos = nx.layout.spring_layout(G)\n",
    "\n",
    "node_sizes = [3 + 10 * i for i in range(len(G))]\n",
    "M = G.number_of_edges()\n",
    "edge_colors = range(2, M + 2)\n",
    "edge_alphas = [i / M  for i in range(M)]\n",
    "\n",
    "nodes = nx.draw_networkx_nodes(G, pos, node_size=node_sizes, node_color=\"blue\")\n",
    "edges = nx.draw_networkx_edges(\n",
    "    G,\n",
    "    pos,\n",
    "    node_size=node_sizes,\n",
    "    arrowstyle=\"->\",\n",
    "    arrowsize=16,\n",
    "    edge_color=edge_colors,\n",
    "    edge_cmap=plt.cm.Blues,\n",
    "    connectionstyle=\"arc3,rad=0.3\",\n",
    "    width=4,\n",
    ")\n",
    "# set alpha value for each edge\n",
    "# for i in range(M):\n",
    "#     edges[i].set_alpha(edge_alphas[i])\n",
    "\n",
    "pc = mpl.collections.PatchCollection(edges, cmap=plt.cm.Blues)\n",
    "pc.set_array(edge_colors)\n",
    "plt.colorbar(pc)\n",
    "ax = plt.gca()\n",
    "ax.set_axis_off()\n",
    "plt.title('Single user sketch graph')\n",
    "plt.show()\n"
   ]
  },
  {
   "cell_type": "code",
   "execution_count": null,
   "metadata": {},
   "outputs": [],
   "source": [
    "# Check whether amount of nodes corresponds with the amount of unique views in a data set\n",
    "lst = []\n",
    "for i in range(len(coords)):\n",
    "    lst.append(((coords.iloc[i]['s_bin_zone'], coords.iloc[i]['s_bin_band']), (coords.iloc[i]['e_bin_zone'], coords.iloc[i]['e_bin_band'])))\n",
    "\n",
    "df = pd.DataFrame(lst)\n",
    "df.columns = ['starts', 'ends']\n",
    "\n",
    "no_uniques = len(df.groupby(['starts','ends']).size().reset_index().rename(columns={0:'count'}))\n",
    "no_nodes = G.number_of_nodes()\n",
    "\n",
    "print('Valid output:', no_uniques == no_nodes)\n",
    "print('No of nodes:', no_nodes)\n",
    "print('No of uniques:', no_uniques)\n",
    "print(df.groupby(['starts','ends']).size().reset_index().rename(columns={0:'count'}))"
   ]
  },
  {
   "cell_type": "code",
   "execution_count": null,
   "metadata": {
    "tags": []
   },
   "outputs": [],
   "source": [
    "import pandas as pd\n",
    "subject_list = [f for f in os.listdir('./data/head_tracking_data') if 'Subject' in f] # list of all subjects\n",
    "video_list = [f for f in os.listdir('./data/video_files') if 'mp4' in f] # list of all videos\n",
    "\n",
    "\n",
    "videos = {} # each video will contain all subjects\n",
    "\n",
    "frames_per_segment = 30\n",
    "\n",
    "for video_id in video_list:\n",
    "    subjects = {} # for each subject, we store segments which are in seperate lists\n",
    "\n",
    "    for subject_id in subject_list:\n",
    "        tmp_data = pd.read_fwf('data/head_tracking_data/'+ subject_id + '/' + video_id.split('.mp4')[0] + '.txt', header=None)\n",
    "        n_segments = int(len(tmp_data)/frames_per_segment) # ofc its not entirely coorect yet, it approximates how many segments\\\n",
    "        segments = []\n",
    "\n",
    "        for seg in range(n_segments):\n",
    "            # print('start ' , frames_per_segment * seg , ' end ', frames_per_segment * (seg+1))\n",
    "            start = frames_per_segment * seg\n",
    "            end = frames_per_segment * (seg+1)\n",
    "            segments.append(tmp_data[start:end])\n",
    "\n",
    "        subjects[subject_id] = segments\n",
    "\n",
    "    videos[video_id] = subjects\n"
   ]
  },
  {
   "cell_type": "code",
   "execution_count": null,
   "metadata": {},
   "outputs": [],
   "source": [
    "videos['AcerPredator.mp4'].keys()"
   ]
  },
  {
   "cell_type": "code",
   "execution_count": null,
   "metadata": {},
   "outputs": [],
   "source": [
    "videos.keys()"
   ]
  },
  {
   "cell_type": "code",
   "execution_count": null,
   "metadata": {},
   "outputs": [],
   "source": []
  }
 ]
}