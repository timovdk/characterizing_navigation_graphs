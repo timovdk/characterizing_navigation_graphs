{
 "metadata": {
  "language_info": {
   "codemirror_mode": {
    "name": "ipython",
    "version": 3
   },
   "file_extension": ".py",
   "mimetype": "text/x-python",
   "name": "python",
   "nbconvert_exporter": "python",
   "pygments_lexer": "ipython3",
   "version": "3.8.5-final"
  },
  "orig_nbformat": 2,
  "kernelspec": {
   "name": "python3",
   "display_name": "Python 3",
   "language": "python"
  }
 },
 "nbformat": 4,
 "nbformat_minor": 2,
 "cells": [
  {
   "cell_type": "code",
   "execution_count": null,
   "metadata": {},
   "outputs": [],
   "source": [
    "import matplotlib.pyplot as plt\r\n",
    "import networkx as nx"
   ]
  },
  {
   "cell_type": "code",
   "execution_count": null,
   "metadata": {},
   "outputs": [],
   "source": [
    "subject_list = [f for f in os.listdir('./data/head_tracking_data') if 'Subject' in f] # list of all subjects\n",
    "video_list = [f for f in os.listdir('./data/video_files') if 'mp4' in f] # list of all videos\n",
    "\n",
    "import pickle\n",
    "def load_obj(name ):\n",
    "    with open('obj/' + name + '.pkl', 'rb') as f:\n",
    "        return pickle.load(f)\n",
    "\n",
    "videos = load_obj('data_wo_segments')"
   ]
  },
  {
   "cell_type": "code",
   "execution_count": null,
   "metadata": {},
   "outputs": [],
   "source": [
    "video_name = 'Help.mp4'\n",
    "subject_name = 'Subject_1'"
   ]
  },
  {
   "cell_type": "code",
   "execution_count": null,
   "metadata": {},
   "outputs": [],
   "source": [
    "# joins together two columns\n",
    "videos[video_name][subject_name]['z'] = videos[video_name][subject_name]['s_bin_zone'].apply(str) + videos[video_name][subject_name]['s_bin_band'].apply(str) + videos[video_name][subject_name]['e_bin_zone'].apply(str) + videos[video_name][subject_name]['e_bin_band'].apply(str)"
   ]
  },
  {
   "cell_type": "code",
   "execution_count": null,
   "metadata": {},
   "outputs": [],
   "source": [
    "# Get vid for subj\n",
    "df_single = videos[video_name][subject_name]\n",
    "\n",
    "# Generate z_2 (destination node) and z_3 origin+destination node\n",
    "df_single['z_2'] = df_single['z'].shift().apply(str)\n",
    "df_single['z_3'] = df_single['z'].apply(str) + df_single['z_2'].apply(str)\n",
    "\n",
    "# Drop first row\n",
    "df_single = df_single.drop(0)"
   ]
  },
  {
   "cell_type": "code",
   "execution_count": null,
   "metadata": {},
   "outputs": [],
   "source": [
    "# Count unique edges and nodes\n",
    "df_single['edge_count'] = df_single.groupby(['z_3']).z_3.transform('size')\n",
    "df_single['node_count'] = df_single.groupby(['z']).z.transform('size')"
   ]
  },
  {
   "cell_type": "code",
   "execution_count": null,
   "metadata": {},
   "outputs": [],
   "source": [
    "# Get unique edges + their counts from df_help_subj1\n",
    "df_graph_data = df_single.drop_duplicates(['z_3'])[['z','z_2','edge_count','node_count']]\n",
    "\n",
    "# Calculate average\n",
    "df_graph_data['probability'] = round(df_graph_data.edge_count/df_graph_data.node_count, 3)"
   ]
  },
  {
   "cell_type": "code",
   "execution_count": null,
   "metadata": {},
   "outputs": [],
   "source": [
    "G = nx.DiGraph()\n",
    "\n",
    "for i in range(len(df_graph_data)):\n",
    "    if df_graph_data.iloc[i].z != df_graph_data.iloc[i].z_2:\n",
    "        # connect z to z_2\n",
    "        G.add_edge(df_graph_data.iloc[i].z, df_graph_data.iloc[i].z_2, weight=df_graph_data.iloc[i].probability)\n",
    "    else:\n",
    "        G.add_node(df_graph_data.iloc[i].z, weight=df_graph_data.iloc[i].probability)\n",
    "\n",
    "pos = nx.spring_layout(G, k=6, seed=2)\n",
    "\n",
    "plt.figure()  \n",
    "\n",
    "node_labels = nx.get_node_attributes(G,'weight')\n",
    "edge_labels = nx.get_edge_attributes(G,'weight')\n",
    "\n",
    "nodes = nx.draw_networkx_nodes(G, pos, node_size=500, node_color='pink', alpha=0.9, linewidths=1)\n",
    "edges = nx.draw_networkx_edges(G, pos, connectionstyle=\"arc3,rad=0.1\", edge_color='black', width=1)\n",
    "\n",
    "nx.draw_networkx_labels(G, pos, labels=node_labels, font_size=7)\n",
    "nx.draw_networkx_edge_labels(G, pos, edge_labels=edge_labels, label_pos=0.7, font_size=7)\n",
    "\n",
    "plt.axis('off')\n",
    "plt.title(subject_name + ' ' + video_name)\n",
    "plt.show()"
   ]
  },
  {
   "cell_type": "code",
   "execution_count": null,
   "metadata": {},
   "outputs": [],
   "source": []
  }
 ]
}