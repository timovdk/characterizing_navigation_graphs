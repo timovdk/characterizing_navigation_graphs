{
 "metadata": {
  "language_info": {
   "codemirror_mode": {
    "name": "ipython",
    "version": 3
   },
   "file_extension": ".py",
   "mimetype": "text/x-python",
   "name": "python",
   "nbconvert_exporter": "python",
   "pygments_lexer": "ipython3",
   "version": "3.8.5-final"
  },
  "orig_nbformat": 2,
  "kernelspec": {
   "name": "python3",
   "display_name": "Python 3.8.5 64-bit (conda)",
   "metadata": {
    "interpreter": {
     "hash": "9166194022d09f6b50427896e295126c3d85af526ec3a500cd7b9546b59cfe8e"
    }
   }
  }
 },
 "nbformat": 4,
 "nbformat_minor": 2,
 "cells": [
  {
   "cell_type": "code",
   "execution_count": null,
   "metadata": {},
   "outputs": [],
   "source": [
    "import numpy as np\n",
    "import cv2\n",
    "import pandas as pd"
   ]
  },
  {
   "cell_type": "code",
   "execution_count": null,
   "metadata": {},
   "outputs": [],
   "source": [
    "video_name = 'Help'\n",
    "data = pd.read_fwf('data/head_tracking_data/Subject_1/' + video_name + '.txt', header=None)\n",
    "\n",
    "data.columns = ['latitude', 'longitude']\n",
    "\n",
    "cap = cv2.VideoCapture('data/video_files/' + video_name + '.mp4')\n",
    "\n",
    "length = int(cap.get(cv2.CAP_PROP_FRAME_COUNT))\n",
    "\n",
    "calc_mod = length/len(data)"
   ]
  },
  {
   "cell_type": "code",
   "execution_count": null,
   "metadata": {},
   "outputs": [],
   "source": [
    "calc_mod = round(1/(round(calc_mod,2)-1))"
   ]
  },
  {
   "cell_type": "code",
   "execution_count": null,
   "metadata": {},
   "outputs": [],
   "source": [
    "def conversion(lat, lon, width, height):\n",
    "    x = ((lon * -1) + 180) * (width/360)\n",
    "    y = ((lat) + 90) * (height/180)\n",
    "    return(x, y)\n",
    "\n",
    "cap = cv2.VideoCapture('data/video_files/' + video_name + '.mp4')\n",
    "index = 0\n",
    "skip = True\n",
    "while(cap.isOpened()):\n",
    "    ret, frame = cap.read()\n",
    "    if (((index % calc_mod) == 0) and skip):\n",
    "        skip = not skip\n",
    "        index = index - 1\n",
    "\n",
    "    # gray = cv2.cvtColor(frame, cv2.COLOR_BGR2GRAY)\n",
    "    x, y = conversion(data.iloc[index].latitude, data.iloc[index].longitude, 3840,1920)\n",
    "\n",
    "    cv2.circle(frame, (np.float32(x), np.float32(y)), 70, (0, 255, 0), 10)\n",
    "\n",
    "    cv2.namedWindow('frame', 0)\n",
    "    cv2.resizeWindow('frame', 1920,1080)\n",
    "    cv2.imshow('frame',frame)\n",
    "\n",
    "    index += 1\n",
    "    if((index % calc_mod) != 0):\n",
    "        skip = True\n",
    "    if (cv2.waitKey(1) & 0xFF == ord('q') or index > len(data)-1):\n",
    "        break\n",
    "\n",
    "cap.release()\n",
    "cv2.destroyAllWindows()"
   ]
  }
 ]
}