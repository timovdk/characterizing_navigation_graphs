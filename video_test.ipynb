{
 "metadata": {
  "language_info": {
   "codemirror_mode": {
    "name": "ipython",
    "version": 3
   },
   "file_extension": ".py",
   "mimetype": "text/x-python",
   "name": "python",
   "nbconvert_exporter": "python",
   "pygments_lexer": "ipython3",
   "version": "3.7.3-final"
  },
  "orig_nbformat": 2,
  "kernelspec": {
   "name": "python3",
   "display_name": "Python 3"
  }
 },
 "nbformat": 4,
 "nbformat_minor": 2,
 "cells": [
  {
   "cell_type": "code",
   "execution_count": 8,
   "metadata": {},
   "outputs": [],
   "source": [
    "import numpy as np\n",
    "import cv2\n",
    "import pandas as pd"
   ]
  },
  {
   "cell_type": "code",
   "execution_count": 9,
   "metadata": {},
   "outputs": [],
   "source": [
    "# data = pd.read_csv('data/video_0.csv')\n",
    "\n",
    "video_name = 'Help'\n",
    "data = pd.read_fwf('data/Subject_1/' + video_name + '.txt', header=None)\n",
    "\n",
    "data.columns = ['latitude', 'longitude']\n",
    "\n",
    "cap = cv2.VideoCapture('video_file/' + video_name + '.mp4')\n",
    "\n",
    "length = int(cap.get(cv2.CAP_PROP_FRAME_COUNT))\n",
    "\n",
    "calc_mod = length/len(data)"
   ]
  },
  {
   "cell_type": "code",
   "execution_count": 10,
   "metadata": {},
   "outputs": [
    {
     "output_type": "execute_result",
     "data": {
      "text/plain": [
       "1.5"
      ]
     },
     "metadata": {},
     "execution_count": 10
    }
   ],
   "source": [
    "round(calc_mod,1)"
   ]
  },
  {
   "cell_type": "code",
   "execution_count": 11,
   "metadata": {},
   "outputs": [
    {
     "output_type": "stream",
     "name": "stdout",
     "text": [
      "-1 skipped\n",
      "1 skipped\n",
      "3 skipped\n",
      "5 skipped\n",
      "7 skipped\n",
      "9 skipped\n",
      "11 skipped\n",
      "13 skipped\n",
      "15 skipped\n",
      "17 skipped\n",
      "19 skipped\n",
      "21 skipped\n",
      "23 skipped\n",
      "25 skipped\n",
      "27 skipped\n",
      "29 skipped\n",
      "31 skipped\n",
      "33 skipped\n",
      "35 skipped\n",
      "37 skipped\n",
      "39 skipped\n",
      "41 skipped\n",
      "43 skipped\n",
      "45 skipped\n",
      "47 skipped\n",
      "49 skipped\n",
      "51 skipped\n"
     ]
    }
   ],
   "source": [
    "def conversion(lat, lon, width, height):\n",
    "    x = ((lon * -1) + 180) * (width/360)\n",
    "    y = ((lat) + 90) * (height/180)\n",
    "    return(x, y)\n",
    "\n",
    "cap = cv2.VideoCapture('video_file/' + video_name + '.mp4')\n",
    "index = 0\n",
    "skip = True\n",
    "while(cap.isOpened()):\n",
    "    ret, frame = cap.read()\n",
    "    if (((index % 2) == 0) and skip):\n",
    "        skip = not skip\n",
    "        index = index - 1\n",
    "        print(index, 'skipped')\n",
    "    # gray = cv2.cvtColor(frame, cv2.COLOR_BGR2GRAY)\n",
    "    x, y = conversion(data.iloc[index].latitude, data.iloc[index].longitude, 3840,1920)\n",
    "\n",
    "    # cv2.circle(frame, (np.float32(1920 + data.iloc[index].latitude), np.float32(960 + data.iloc[index].longitude)), 10, (0, 255, 0), 10)\n",
    "    cv2.circle(frame, (np.float32(x), np.float32(y)), 70, (0, 255, 0), 10)\n",
    "\n",
    "    cv2.namedWindow('frame', 0)\n",
    "    cv2.resizeWindow('frame', 1920,1080) \n",
    "    cv2.imshow('frame',frame)\n",
    "\n",
    "    # print(index)\n",
    "    index += 1\n",
    "    if((index % 2) != 0):\n",
    "        skip = True\n",
    "    if (cv2.waitKey(1) & 0xFF == ord('q')):\n",
    "        break\n",
    "\n",
    "cap.release()\n",
    "cv2.destroyAllWindows()"
   ]
  }
 ]
}