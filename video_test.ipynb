{
 "metadata": {
  "language_info": {
   "codemirror_mode": {
    "name": "ipython",
    "version": 3
   },
   "file_extension": ".py",
   "mimetype": "text/x-python",
   "name": "python",
   "nbconvert_exporter": "python",
   "pygments_lexer": "ipython3",
   "version": "3.7.3-final"
  },
  "orig_nbformat": 2,
  "kernelspec": {
   "name": "python3",
   "display_name": "Python 3"
  }
 },
 "nbformat": 4,
 "nbformat_minor": 2,
 "cells": [
  {
   "cell_type": "code",
   "execution_count": 2,
   "metadata": {},
   "outputs": [],
   "source": [
    "import numpy as np\n",
    "import cv2\n",
    "import pandas as pd"
   ]
  },
  {
   "cell_type": "code",
   "execution_count": 87,
   "metadata": {},
   "outputs": [],
   "source": [
    "video_name = 'RollerCoaster'\n",
    "data = pd.read_fwf('data/Subject_1/' + video_name + '.txt', header=None)\n",
    "\n",
    "data.columns = ['latitude', 'longitude']\n",
    "\n",
    "cap = cv2.VideoCapture('video_files/' + video_name + '.mp4')\n",
    "\n",
    "length = int(cap.get(cv2.CAP_PROP_FRAME_COUNT))\n",
    "\n",
    "ret, frame = cap.read()\n",
    "\n",
    "calc_mod = length/len(data)"
   ]
  },
  {
   "cell_type": "code",
   "execution_count": 88,
   "metadata": {},
   "outputs": [],
   "source": [
    "calc_mod = round(1/(round(calc_mod,2)-1))"
   ]
  },
  {
   "cell_type": "code",
   "execution_count": 89,
   "metadata": {},
   "outputs": [
    {
     "output_type": "execute_result",
     "data": {
      "text/plain": [
       "(2048, 3640, 3)"
      ]
     },
     "metadata": {},
     "execution_count": 89
    }
   ],
   "source": [
    "frame.shape"
   ]
  },
  {
   "cell_type": "code",
   "execution_count": 90,
   "metadata": {},
   "outputs": [],
   "source": [
    "def conversion(lat, lon, width, height):\n",
    "    x = ((lon * -1) + 180) * (width/360)\n",
    "    y = ((lat) + 90) * (height/180)\n",
    "    return(x, y)\n",
    "\n",
    "cap = cv2.VideoCapture('video_files/' + video_name + '.mp4')\n",
    "index = 0\n",
    "skip = True\n",
    "zones = [i for i in range(1,61)]\n",
    "while(cap.isOpened()):\n",
    "    ret, frame = cap.read()\n",
    "    if (((index % calc_mod) == 0) and skip):\n",
    "        skip = not skip\n",
    "        index = index - 1\n",
    "\n",
    "    # gray = cv2.cvtColor(frame, cv2.COLOR_BGR2GRAY)\n",
    "    x, y = conversion(data.iloc[index].latitude, data.iloc[index].longitude, frame.shape[1],frame.shape[0])\n",
    "\n",
    "    cv2.circle(frame, (np.float32(x), np.float32(y)), 170, (0, 255, 0), 10)\n",
    "    for i in zones:\n",
    "        cv2.line(frame, (int((frame.shape[1]/60) * i), 0), (int((frame.shape[1]/60) * i), frame.shape[0]), (255,255,255), 2)\n",
    "        cv2.line(frame, (0, int(frame.shape[0]/20) * i), (frame.shape[1], int(frame.shape[0]/20) * i), (255,255,255), 2)\n",
    "\n",
    "    cv2.namedWindow('frame', 0)\n",
    "    cv2.resizeWindow('frame', 1920,1080)\n",
    "    cv2.imshow('frame',frame)\n",
    "\n",
    "    index += 1\n",
    "    if((index % calc_mod) != 0):\n",
    "        skip = True\n",
    "    if (cv2.waitKey(1) & 0xFF == ord('q') or index > len(data)-1):\n",
    "        break\n",
    "\n",
    "cap.release()\n",
    "cv2.destroyAllWindows()"
   ]
  },
  {
   "cell_type": "code",
   "execution_count": 23,
   "metadata": {},
   "outputs": [],
   "source": [
    "import utm"
   ]
  },
  {
   "cell_type": "code",
   "execution_count": 42,
   "metadata": {
    "tags": []
   },
   "outputs": [],
   "source": [
    "lst = []\n",
    "for i in range(len(data)):\n",
    "    u = utm.from_latlon(data.iloc[i].latitude, data.iloc[i].longitude)\n",
    "    lst.append(u[2:])"
   ]
  },
  {
   "cell_type": "code",
   "execution_count": 28,
   "metadata": {},
   "outputs": [],
   "source": [
    "# data_zones = pd.concat([data, pd.DataFrame(lst)],axis=1)\n",
    "def conversion(lat, lon, width, height):\n",
    "    x = ((lon * -1) + 180) * (width/360)\n",
    "    y = ((lat) + 90) * (height/180)\n",
    "    return(x, y)\n",
    "\n",
    "scufed = []\n",
    "for i in range(len(data)):\n",
    "    scufed.append(conversion(data.iloc[i].latitude, data.iloc[i].longitude, 3840, 2160))"
   ]
  },
  {
   "cell_type": "code",
   "execution_count": 44,
   "metadata": {},
   "outputs": [],
   "source": [
    "scuffed_xy = pd.DataFrame(lst)"
   ]
  },
  {
   "cell_type": "code",
   "execution_count": 47,
   "metadata": {},
   "outputs": [
    {
     "output_type": "execute_result",
     "data": {
      "text/plain": [
       "      latitude  longitude   0  1\n",
       "0    13.474903  18.634676  34  P\n",
       "1    13.569384  18.680785  34  P\n",
       "2    13.672114  18.687172  34  P\n",
       "3    13.748986  18.684667  34  P\n",
       "4    13.814718  18.690203  34  P\n",
       "..         ...        ...  .. ..\n",
       "613  -0.426411 -67.713565  19  M\n",
       "614  -0.725175 -67.861549  19  M\n",
       "615  -0.856629 -67.687099  19  M\n",
       "616  -0.879255 -67.239816  19  M\n",
       "617  -0.784200 -66.666964  19  M\n",
       "\n",
       "[618 rows x 4 columns]"
      ],
      "text/html": "<div>\n<style scoped>\n    .dataframe tbody tr th:only-of-type {\n        vertical-align: middle;\n    }\n\n    .dataframe tbody tr th {\n        vertical-align: top;\n    }\n\n    .dataframe thead th {\n        text-align: right;\n    }\n</style>\n<table border=\"1\" class=\"dataframe\">\n  <thead>\n    <tr style=\"text-align: right;\">\n      <th></th>\n      <th>latitude</th>\n      <th>longitude</th>\n      <th>0</th>\n      <th>1</th>\n    </tr>\n  </thead>\n  <tbody>\n    <tr>\n      <th>0</th>\n      <td>13.474903</td>\n      <td>18.634676</td>\n      <td>34</td>\n      <td>P</td>\n    </tr>\n    <tr>\n      <th>1</th>\n      <td>13.569384</td>\n      <td>18.680785</td>\n      <td>34</td>\n      <td>P</td>\n    </tr>\n    <tr>\n      <th>2</th>\n      <td>13.672114</td>\n      <td>18.687172</td>\n      <td>34</td>\n      <td>P</td>\n    </tr>\n    <tr>\n      <th>3</th>\n      <td>13.748986</td>\n      <td>18.684667</td>\n      <td>34</td>\n      <td>P</td>\n    </tr>\n    <tr>\n      <th>4</th>\n      <td>13.814718</td>\n      <td>18.690203</td>\n      <td>34</td>\n      <td>P</td>\n    </tr>\n    <tr>\n      <th>...</th>\n      <td>...</td>\n      <td>...</td>\n      <td>...</td>\n      <td>...</td>\n    </tr>\n    <tr>\n      <th>613</th>\n      <td>-0.426411</td>\n      <td>-67.713565</td>\n      <td>19</td>\n      <td>M</td>\n    </tr>\n    <tr>\n      <th>614</th>\n      <td>-0.725175</td>\n      <td>-67.861549</td>\n      <td>19</td>\n      <td>M</td>\n    </tr>\n    <tr>\n      <th>615</th>\n      <td>-0.856629</td>\n      <td>-67.687099</td>\n      <td>19</td>\n      <td>M</td>\n    </tr>\n    <tr>\n      <th>616</th>\n      <td>-0.879255</td>\n      <td>-67.239816</td>\n      <td>19</td>\n      <td>M</td>\n    </tr>\n    <tr>\n      <th>617</th>\n      <td>-0.784200</td>\n      <td>-66.666964</td>\n      <td>19</td>\n      <td>M</td>\n    </tr>\n  </tbody>\n</table>\n<p>618 rows × 4 columns</p>\n</div>"
     },
     "metadata": {},
     "execution_count": 47
    }
   ],
   "source": [
    "pd.concat([data, scuffed_xy],axis=1)"
   ]
  },
  {
   "cell_type": "code",
   "execution_count": null,
   "metadata": {},
   "outputs": [],
   "source": []
  }
 ]
}