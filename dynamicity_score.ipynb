{
 "metadata": {
  "language_info": {
   "codemirror_mode": {
    "name": "ipython",
    "version": 3
   },
   "file_extension": ".py",
   "mimetype": "text/x-python",
   "name": "python",
   "nbconvert_exporter": "python",
   "pygments_lexer": "ipython3",
   "version": "3.7.3-final"
  },
  "orig_nbformat": 2,
  "kernelspec": {
   "name": "python3",
   "display_name": "Python 3",
   "language": "python"
  }
 },
 "nbformat": 4,
 "nbformat_minor": 2,
 "cells": [
  {
   "cell_type": "code",
   "execution_count": 2,
   "metadata": {},
   "outputs": [],
   "source": [
    "import numpy as np\n",
    "import pandas as pd\n",
    "import os\n",
    "import pickle"
   ]
  },
  {
   "cell_type": "code",
   "execution_count": 11,
   "metadata": {},
   "outputs": [],
   "source": [
    "subject_list = [f for f in os.listdir('./data/head_tracking_data') if 'Subject' in f] # list of all subjects\n",
    "video_list = [f for f in os.listdir('./data/video_files') if 'mp4' in f] # list of all videos\n",
    "\n",
    "def load_obj(name ):\n",
    "    with open('obj/' + name + '.pkl', 'rb') as f:\n",
    "        return pickle.load(f)\n",
    "\n",
    "videos = load_obj('data_wo_segments')\n",
    "all_videos = load_obj('single_user_ngs(all)')"
   ]
  },
  {
   "cell_type": "code",
   "execution_count": 6,
   "metadata": {},
   "outputs": [],
   "source": [
    "# joins together two columns\n",
    "for video_id in video_list:\n",
    "    for subj_id in subject_list:\n",
    "        videos[video_id][subj_id]['z'] = videos[video_id][subj_id]['s_bin_zone'].apply(str) + videos[video_id][subj_id]['s_bin_band'].apply(str) + videos[video_id][subj_id]['e_bin_zone'].apply(str) + videos[video_id][subj_id]['e_bin_band'].apply(str)"
   ]
  },
  {
   "cell_type": "code",
   "execution_count": 7,
   "metadata": {},
   "outputs": [],
   "source": [
    "# count unique tiles\n",
    "video_stat = {}\n",
    "for video_id in video_list:\n",
    "    subj_ = {}\n",
    "    for subj_id in subject_list:\n",
    "        subj_[subj_id] = videos[video_id][subj_id]['z'].value_counts()\n",
    "    video_stat[video_id] = subj_"
   ]
  },
  {
   "cell_type": "code",
   "execution_count": 9,
   "metadata": {},
   "outputs": [],
   "source": [
    "# dynamicity score v2\n",
    "video_score = {}\n",
    "for video_id in video_list:\n",
    "    subj_ = {}\n",
    "    for subj_id in subject_list:\n",
    "        subj_[subj_id] = np.std(video_stat[video_id][subj_id]) * (len(video_stat[video_id][subj_id])/16)\n",
    "    video_score[video_id] = subj_"
   ]
  },
  {
   "cell_type": "code",
   "execution_count": 12,
   "metadata": {},
   "outputs": [],
   "source": [
    "# Dynamicity score v1/v1 adjusted\n",
    "video_ = {}\n",
    "for video_id in video_list:\n",
    "    subj_ = {}\n",
    "    for subj_id in subject_list:\n",
    "        G = all_videos[video_id][subj_id]\n",
    "        subj_[subj_id] = G.number_of_edges() / G.number_of_nodes()\n",
    "    video_[video_id] = subj_"
   ]
  },
  {
   "cell_type": "code",
   "execution_count": 14,
   "metadata": {},
   "outputs": [
    {
     "output_type": "execute_result",
     "data": {
      "text/plain": [
       "            A380.mp4  AcerPredator.mp4  AirShow.mp4  Antarctic.mp4   BFG.mp4  \\\n",
       "Subject_1   2.583333               2.6     3.300000       3.250000  2.166667   \n",
       "Subject_10  2.666667               2.6     3.111111       3.833333  2.636364   \n",
       "\n",
       "            BlueWorld.mp4  BTSRun.mp4  CandyCarnival.mp4  CMLauncher.mp4  \\\n",
       "Subject_1        3.090909       2.625           2.461538        3.090909   \n",
       "Subject_10       2.761905       2.750           2.812500        3.000000   \n",
       "\n",
       "            Cryogenian.mp4  ...  StarWars.mp4  Supercar.mp4  SuperMario64.mp4  \\\n",
       "Subject_1         2.846154  ...      2.000000      2.375000          2.500000   \n",
       "Subject_10        2.800000  ...      2.727273      2.727273          2.833333   \n",
       "\n",
       "            Surfing.mp4  Symphony.mp4  Terminator.mp4  VRBasketball.mp4  \\\n",
       "Subject_1           2.5      2.800000        2.714286          3.333333   \n",
       "Subject_10          2.5      2.818182        3.181818          2.875000   \n",
       "\n",
       "            WaitingForLove.mp4  Waterskiing.mp4  WesternSichuan.mp4  \n",
       "Subject_1             2.700000         2.800000            3.000000  \n",
       "Subject_10            3.272727         2.846154            2.888889  \n",
       "\n",
       "[2 rows x 48 columns]"
      ],
      "text/html": "<div>\n<style scoped>\n    .dataframe tbody tr th:only-of-type {\n        vertical-align: middle;\n    }\n\n    .dataframe tbody tr th {\n        vertical-align: top;\n    }\n\n    .dataframe thead th {\n        text-align: right;\n    }\n</style>\n<table border=\"1\" class=\"dataframe\">\n  <thead>\n    <tr style=\"text-align: right;\">\n      <th></th>\n      <th>A380.mp4</th>\n      <th>AcerPredator.mp4</th>\n      <th>AirShow.mp4</th>\n      <th>Antarctic.mp4</th>\n      <th>BFG.mp4</th>\n      <th>BlueWorld.mp4</th>\n      <th>BTSRun.mp4</th>\n      <th>CandyCarnival.mp4</th>\n      <th>CMLauncher.mp4</th>\n      <th>Cryogenian.mp4</th>\n      <th>...</th>\n      <th>StarWars.mp4</th>\n      <th>Supercar.mp4</th>\n      <th>SuperMario64.mp4</th>\n      <th>Surfing.mp4</th>\n      <th>Symphony.mp4</th>\n      <th>Terminator.mp4</th>\n      <th>VRBasketball.mp4</th>\n      <th>WaitingForLove.mp4</th>\n      <th>Waterskiing.mp4</th>\n      <th>WesternSichuan.mp4</th>\n    </tr>\n  </thead>\n  <tbody>\n    <tr>\n      <th>Subject_1</th>\n      <td>2.583333</td>\n      <td>2.6</td>\n      <td>3.300000</td>\n      <td>3.250000</td>\n      <td>2.166667</td>\n      <td>3.090909</td>\n      <td>2.625</td>\n      <td>2.461538</td>\n      <td>3.090909</td>\n      <td>2.846154</td>\n      <td>...</td>\n      <td>2.000000</td>\n      <td>2.375000</td>\n      <td>2.500000</td>\n      <td>2.5</td>\n      <td>2.800000</td>\n      <td>2.714286</td>\n      <td>3.333333</td>\n      <td>2.700000</td>\n      <td>2.800000</td>\n      <td>3.000000</td>\n    </tr>\n    <tr>\n      <th>Subject_10</th>\n      <td>2.666667</td>\n      <td>2.6</td>\n      <td>3.111111</td>\n      <td>3.833333</td>\n      <td>2.636364</td>\n      <td>2.761905</td>\n      <td>2.750</td>\n      <td>2.812500</td>\n      <td>3.000000</td>\n      <td>2.800000</td>\n      <td>...</td>\n      <td>2.727273</td>\n      <td>2.727273</td>\n      <td>2.833333</td>\n      <td>2.5</td>\n      <td>2.818182</td>\n      <td>3.181818</td>\n      <td>2.875000</td>\n      <td>3.272727</td>\n      <td>2.846154</td>\n      <td>2.888889</td>\n    </tr>\n  </tbody>\n</table>\n<p>2 rows × 48 columns</p>\n</div>"
     },
     "metadata": {},
     "execution_count": 14
    }
   ],
   "source": [
    "pd.DataFrame.from_dict(video_).head(2) # dynamicity score v1"
   ]
  },
  {
   "cell_type": "code",
   "execution_count": 15,
   "metadata": {},
   "outputs": [
    {
     "output_type": "execute_result",
     "data": {
      "text/plain": [
       "             A380.mp4  AcerPredator.mp4  AirShow.mp4  Antarctic.mp4   BFG.mp4  \\\n",
       "Subject_1   37.790748         52.436196    57.243347      22.805136  35.77878   \n",
       "Subject_10  25.353131         92.639169    63.642925       9.880536  32.78755   \n",
       "\n",
       "            BlueWorld.mp4  BTSRun.mp4  CandyCarnival.mp4  CMLauncher.mp4  \\\n",
       "Subject_1       20.805648   72.818589          49.205802       46.910653   \n",
       "Subject_10      35.640128   45.340336          34.532367       72.484373   \n",
       "\n",
       "            Cryogenian.mp4  ...  StarWars.mp4  Supercar.mp4  SuperMario64.mp4  \\\n",
       "Subject_1        19.920937  ...     35.562500     31.893132         39.130940   \n",
       "Subject_10       26.428042  ...     62.908912     34.978453         38.133196   \n",
       "\n",
       "            Surfing.mp4  Symphony.mp4  Terminator.mp4  VRBasketball.mp4  \\\n",
       "Subject_1     51.739469     52.360268       54.505877         20.247010   \n",
       "Subject_10    45.397851     37.415947       68.190507         29.094673   \n",
       "\n",
       "            WaitingForLove.mp4  Waterskiing.mp4  WesternSichuan.mp4  \n",
       "Subject_1            58.807020        19.180068           38.746673  \n",
       "Subject_10           40.906334        53.328141           35.624123  \n",
       "\n",
       "[2 rows x 48 columns]"
      ],
      "text/html": "<div>\n<style scoped>\n    .dataframe tbody tr th:only-of-type {\n        vertical-align: middle;\n    }\n\n    .dataframe tbody tr th {\n        vertical-align: top;\n    }\n\n    .dataframe thead th {\n        text-align: right;\n    }\n</style>\n<table border=\"1\" class=\"dataframe\">\n  <thead>\n    <tr style=\"text-align: right;\">\n      <th></th>\n      <th>A380.mp4</th>\n      <th>AcerPredator.mp4</th>\n      <th>AirShow.mp4</th>\n      <th>Antarctic.mp4</th>\n      <th>BFG.mp4</th>\n      <th>BlueWorld.mp4</th>\n      <th>BTSRun.mp4</th>\n      <th>CandyCarnival.mp4</th>\n      <th>CMLauncher.mp4</th>\n      <th>Cryogenian.mp4</th>\n      <th>...</th>\n      <th>StarWars.mp4</th>\n      <th>Supercar.mp4</th>\n      <th>SuperMario64.mp4</th>\n      <th>Surfing.mp4</th>\n      <th>Symphony.mp4</th>\n      <th>Terminator.mp4</th>\n      <th>VRBasketball.mp4</th>\n      <th>WaitingForLove.mp4</th>\n      <th>Waterskiing.mp4</th>\n      <th>WesternSichuan.mp4</th>\n    </tr>\n  </thead>\n  <tbody>\n    <tr>\n      <th>Subject_1</th>\n      <td>37.790748</td>\n      <td>52.436196</td>\n      <td>57.243347</td>\n      <td>22.805136</td>\n      <td>35.77878</td>\n      <td>20.805648</td>\n      <td>72.818589</td>\n      <td>49.205802</td>\n      <td>46.910653</td>\n      <td>19.920937</td>\n      <td>...</td>\n      <td>35.562500</td>\n      <td>31.893132</td>\n      <td>39.130940</td>\n      <td>51.739469</td>\n      <td>52.360268</td>\n      <td>54.505877</td>\n      <td>20.247010</td>\n      <td>58.807020</td>\n      <td>19.180068</td>\n      <td>38.746673</td>\n    </tr>\n    <tr>\n      <th>Subject_10</th>\n      <td>25.353131</td>\n      <td>92.639169</td>\n      <td>63.642925</td>\n      <td>9.880536</td>\n      <td>32.78755</td>\n      <td>35.640128</td>\n      <td>45.340336</td>\n      <td>34.532367</td>\n      <td>72.484373</td>\n      <td>26.428042</td>\n      <td>...</td>\n      <td>62.908912</td>\n      <td>34.978453</td>\n      <td>38.133196</td>\n      <td>45.397851</td>\n      <td>37.415947</td>\n      <td>68.190507</td>\n      <td>29.094673</td>\n      <td>40.906334</td>\n      <td>53.328141</td>\n      <td>35.624123</td>\n    </tr>\n  </tbody>\n</table>\n<p>2 rows × 48 columns</p>\n</div>"
     },
     "metadata": {},
     "execution_count": 15
    }
   ],
   "source": [
    "pd.DataFrame.from_dict(video_score).head(2) # dynamicity score v2"
   ]
  },
  {
   "cell_type": "code",
   "execution_count": null,
   "metadata": {},
   "outputs": [],
   "source": []
  }
 ]
}