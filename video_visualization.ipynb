{
 "metadata": {
  "language_info": {
   "codemirror_mode": {
    "name": "ipython",
    "version": 3
   },
   "file_extension": ".py",
   "mimetype": "text/x-python",
   "name": "python",
   "nbconvert_exporter": "python",
   "pygments_lexer": "ipython3",
   "version": "3.7.3-final"
  },
  "orig_nbformat": 2,
  "kernelspec": {
   "name": "python3",
   "display_name": "Python 3",
   "language": "python"
  }
 },
 "nbformat": 4,
 "nbformat_minor": 2,
 "cells": [
  {
   "cell_type": "code",
   "execution_count": 6,
   "metadata": {},
   "outputs": [],
   "source": [
    "import numpy as np\n",
    "import cv2\n",
    "import pandas as pd"
   ]
  },
  {
   "cell_type": "code",
   "execution_count": 7,
   "metadata": {},
   "outputs": [],
   "source": [
    "video_name = 'Help'\n",
    "data = pd.read_fwf('data/head_tracking_data/Subject_6/' + video_name + '.txt', header=None)\n",
    "\n",
    "data.columns = ['latitude', 'longitude']\n",
    "\n",
    "cap = cv2.VideoCapture('data/video_files/' + video_name + '.mp4')\n",
    "\n",
    "# Get video meta data\n",
    "length = int(cap.get(cv2.CAP_PROP_FRAME_COUNT))\n",
    "width  = int(cap.get(cv2.CAP_PROP_FRAME_WIDTH))\n",
    "height = int(cap.get(cv2.CAP_PROP_FRAME_HEIGHT))\n",
    "\n",
    "# Calculate pixels per degree\n",
    "width_normalized = width/360\n",
    "height_normalized = height/180\n",
    "\n",
    "# Calculate FoV offsets, 110 degrees horizontal, 100 degrees verti\n",
    "width_offset = width_normalized*55\n",
    "height_offset = height_normalized*50\n",
    "\n",
    "# Here we figure out the spacing of the video and dataset,\n",
    "# Sometimes there are more frames than data points, so using calc_mod\n",
    "# We can make sure the data points are spaced evenly across the frames\n",
    "calc_mod = round(1/(round((length/len(data)),2)-1))"
   ]
  },
  {
   "cell_type": "code",
   "execution_count": 8,
   "metadata": {},
   "outputs": [],
   "source": [
    "tiling_x = 4\n",
    "tiling_y = 4"
   ]
  },
  {
   "cell_type": "code",
   "execution_count": 9,
   "metadata": {},
   "outputs": [],
   "source": [
    "def conversion(lat, lon):\n",
    "    x = (180 - lon) * width_normalized\n",
    "    y = (90 - lat) * height_normalized\n",
    "    return(x, y)\n",
    "\n",
    "def start_end_point(x, y):\n",
    "    start_point = (int(x - width_offset), int(y + height_offset))\n",
    "    end_point = (int(x + width_offset), int(y - height_offset))\n",
    "    return(start_point, end_point)\n",
    "\n",
    "index = 0\n",
    "skip = True\n",
    "zones = [i for i in range(1,61)]\n",
    "\n",
    "# so we only need to re-run this part of code to show video again\n",
    "cap = cv2.VideoCapture('data/video_files/' + video_name + '.mp4')\n",
    "ret, frame = cap.read()\n",
    "cv2.namedWindow('frame', 0)\n",
    "cv2.resizeWindow('frame', 1920,1080)\n",
    "\n",
    "cv2.imshow('frame',cv2.flip(frame,1))\n",
    "go = False\n",
    "\n",
    "while(cap.isOpened()):\n",
    "    \n",
    "    while(not go): # just to make it so we need to press a button to start the video\n",
    "        cv2.waitKey(0)\n",
    "\n",
    "        if(ord('a')):\n",
    "            go = True\n",
    "\n",
    "    ret, frame = cap.read()\n",
    "\n",
    "    if (((index % calc_mod) == 0) and skip):\n",
    "        skip = not skip\n",
    "        index = index - 1\n",
    "    \n",
    "    # Calculate focus point\n",
    "    focus_x, focus_y = conversion(data.iloc[index].latitude, data.iloc[index].longitude)\n",
    "    # Calculate top left and bottom right of FoV based on focus point\n",
    "    start_point, end_point = start_end_point(focus_x, focus_y)\n",
    "    # Draw FoV rectangle\n",
    "    cv2.rectangle(frame, start_point, end_point, (0, 255, 0), 10)\n",
    "\n",
    "    # Draw tiles grid\n",
    "    for i in zones:\n",
    "        cv2.line(frame, (int((frame.shape[1]/tiling_x) * i), 0), (int((frame.shape[1]/tiling_x) * i), frame.shape[0]), (255,255,255), 2)\n",
    "        cv2.line(frame, (0, int(frame.shape[0]/tiling_y) * i), (frame.shape[1], int(frame.shape[0]/tiling_y) * i), (255,255,255), 2)\n",
    "\n",
    "    cv2.imshow('frame',cv2.flip(frame,1))\n",
    "\n",
    "    index += 1\n",
    "    if((index % calc_mod) != 0):\n",
    "        skip = True\n",
    "\n",
    "    if (cv2.waitKey(1) & 0xFF == ord('q') or index > len(data)-1):\n",
    "        break\n",
    "\n",
    "cap.release()\n",
    "cv2.destroyAllWindows()"
   ]
  },
  {
   "cell_type": "code",
   "execution_count": null,
   "metadata": {},
   "outputs": [],
   "source": []
  }
 ]
}